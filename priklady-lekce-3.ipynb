{
 "cells": [
  {
   "cell_type": "markdown",
   "metadata": {},
   "source": [
    "# Kryptoměny\n",
    "\n",
    "Markéta má své úspory ve třech kryptoměnách: Czechitacoinu, Polcoinu a PyCoinu. Potřebovala by zjistit, kolik je celková hodnota jejích úspor v celých dolarech. Bohužel její aplikace toto zobrazit neumí, má pouze k dispozici přehled všech transakcí, které jsou v souboru [transaction_list.csv](transaction_list.csv). V prvním sloupci je datum transakce, ve druhém sloupci hodnota transakce a ve třetím sloupci kryptoměna, ve které transakce proběhla. Níže máš slovník s aktuáními kurzy těchto měn v dolarech. Zápis znamená, že 1 Polcoin má hodnotu 0.47 dolarů, 1 PyCoin 0.21 dolarů atd."
   ]
  },
  {
   "cell_type": "code",
   "execution_count": null,
   "metadata": {},
   "outputs": [],
   "source": [
    "rates = {\"Polcoin\": 0.47, \"PyCoin\": 0.21, \"Czechitacoin\": 0.13}"
   ]
  },
  {
   "cell_type": "markdown",
   "metadata": {},
   "source": [
    "## Vzorový výstup\n",
    "\n",
    "```\n",
    "Hodnota úspor Markéty je 53314 dolarů.\n",
    "```"
   ]
  },
  {
   "cell_type": "markdown",
   "metadata": {},
   "source": [
    "# Výkazy\n",
    "\n",
    "Uvažuj data o pracovních výkazech, která jsou uložena v souboru [work_hours.json](work_hours.json). \n",
    "\n",
    "Pokud nevíš, jak pracovat se souborem ve formátu JSON, zkopíruj do svého programu následující kód:"
   ]
  },
  {
   "cell_type": "code",
   "execution_count": 1,
   "metadata": {},
   "outputs": [],
   "source": [
    "import json\n",
    "with open(\"work_hours.json\", encoding=\"utf-8\") as file:\n",
    "    data = json.load(file)"
   ]
  },
  {
   "cell_type": "markdown",
   "metadata": {},
   "source": [
    "Nyní máš všechna data uložená v proměnná `data` jako seznam slovníků a můžeš s nimi pracovat jako s obyčejným seznamem slovníků, jako je to popsáno třeba na kodim.cz.\n",
    "\n",
    "Data obsahují pracovní výkazy 5 zaměstnanců za srpen 2023. Pro každý pracovní den jsou v datech následující informace:\n",
    "- `date` - datum,\n",
    "- `employee` - jméno zaměstnance/zaměstnankyně,\n",
    "- `drecord_typeate` - typ záznamu, který říká, co zaměstnanec/zaměstnankyně daný den dělal(a), možnosti jsou: \"work\" (práce), \"holiday\" (dovolená), \"care\" (péče o člena rodiny), \"unpaid\" (neplacené volno),\n",
    "- `worked_on` - pokud je typ záznamu \"work\", je tam vnořený slovník s počty odpracovaných hodin na jednotlivých projektech.\n",
    "\n",
    "U záznaů typu dovolená, péče o člena rodiny nebo neplacené volno vždy uvažujeme délku 8 hodin. Pokud zaměstnanec pracoval, jsou odpracované hodiny dané součtem práce na jednotlivých projektech a může to být jiné číslo než 8.\n",
    "\n",
    "Tvým úkolem je vytvořit dva reporty: report o odpracovaných hodinách a absencích každého zaměstnance a report odpracované práce na projektu.\n",
    "\n",
    "Začnemě s reportem o zaměstnancích. Vstupem pro něj je zbývající dovolená, tj. nárok na dovolenou, který ještě zaměstnanci v tomto kalendářním roce nevyčerpali. Podle nového zákoníku práce je nárok v hodinách.\n",
    "\n",
    "```py\n",
    "remaining_holiday = {\"Marta Nováková\": 120, \"Michael Rostock-Poplar\": 96, \"Ondřej Bartoš\": 40, \"Daniela Bérová\": 168, \"Ivan Pilný\": 32}\n",
    "```\n",
    "\n",
    "Tvým úkolem je spočítat pro každého zaměstnance (zaměstnankyni):\n",
    "\n",
    "- kolik odpracoval(a) hodin,\n",
    "- kolik si vybral(a) dovolené (v hodinách),\n",
    "- kolik zbývá dovolené na konci září,\n",
    "- kolik hodin strávil(a) péčí o člena rodiny,\n",
    "- kolik hodin strávil na neplaceném volnu.\n",
    "\n",
    "Příklad výstupu je níže.\n",
    "\n",
    "```json\n",
    "{\"Marta Nováková\": {\"work_hours\": 117, \"holiday_taken\": 56, \"holiday_remaining\": 64, \"care\": 0, \"unpaid\": 0}, \"Michael Rostock-Poplar\": {\"work_hours\": 92, \"holiday_taken\": 48, \"holiday_remaining\": 48, \"care\": 24, \"unpaid\": 0}, \"Ondřej Bartoš\": {\"work_hours\": 135, \"holiday_taken\": 32, \"holiday_remaining\": 8, \"care\": 8, \"unpaid\": 0}, \"Daniela Bérová\": {\"work_hours\": 98, \"holiday_taken\": 64, \"holiday_remaining\": 104, \"care\": 8, \"unpaid\": 0}, \"Ivan Pilný\": {\"work_hours\": 128, \"holiday_taken\": 32, \"holiday_remaining\": 0, \"care\": 8, \"unpaid\": 0}}\n",
    "```\n",
    "\n",
    "Dále vytvoř report odpracovaných hodin na projektu.\n",
    "\n",
    "Můžeš si zvolit jednodušší variantu, tj. spočítat hodiny za každý projekt celkem:\n",
    "\n",
    "```json\n",
    "{\"TrendVision\": 133, \"DataDive\": 83, \"Mandala\": 119, \"PulseCheck\": 100, \"FinanceFlare\": 135}\n",
    "```\n",
    "\n",
    "Alternativně můžeš spočítat, kolik na každém projektu odpracovali jednotliví zaměstnanci.\n",
    "\n",
    "```json\n",
    "{\"TrendVision\": {\"Marta Nováková\": 98, \"Michael Rostock-Poplar\": 35}, \"DataDive\": {\"Marta Nováková\": 19, \"Daniela Bérová\": 64}, \"Mandala\": {\"Michael Rostock-Poplar\": 38, \"Ivan Pilný\": 81}, \"PulseCheck\": {\"Michael Rostock-Poplar\": 19, \"Daniela Bérová\": 34, \"Ivan Pilný\": 47}, \"FinanceFlare\": {\"Ondřej Bartoš\": 135}}\n",
    "```"
   ]
  },
  {
   "cell_type": "markdown",
   "metadata": {},
   "source": [
    "# Hráči 2\n",
    "\n",
    "*Tento příklad je rozšířením příkladu Hráči z [bonusových příkladů na lekci 11.9.2023](priklady-lekce-2.ipynb). Pokud jsi předchozí příklad neřešila, přečti si prosím nejprve jeho zadání a poté zadání tohoto příkladu. Následně můžeš začít řešit tento příklad (a předchozí přeskočit).*\n",
    "\n",
    "Oproti původnímu zadání nyní dostávají hráči 8. Stále platí, že každá z karet je označena dvěma písmeny - barvou (H, T, C, P - označují kříže, káry, srdce a píky) a hodnotou (čísla od 2 do 9).\n",
    "\n",
    "Hráči mohou získat body, pokud mají řadu alespoň tří karet (může jich být i více) s po sobě jdoucími hodnotami (např. H3-T4-H5-P6), získá počet bodů, který odpovídá součtu všech hodnot v řadě (pro daný příklad je počet bodů 3+4+5+6 = 18). Pokud má hráč více karet stejné hodnoty, počítá se do bodů pouze jedna z karet. Karty jsou vždy seřazené dle čísla a následně dle barvy v pořadí H, T, C, P. Vypočítej pro 10 řádků (10 her) součet bodů pro všechny hráče. Pozor ale, že nyní může mít každý hráč během jedné hry řad více. Například může mít karty \"H2-C3-T4-H7-C8-P8-H9-T9\". V takovém případě dostává 2+3+4 = 9 bodů za první řadu a 7+8+9 za druhou řadu."
   ]
  },
  {
   "cell_type": "code",
   "execution_count": null,
   "metadata": {},
   "outputs": [],
   "source": [
    "data = [\n",
    "    [\"H2-C4-T5-H5-T6\", \"P2-T2-C3-T4-P8\", \"P3-T3-P4-T7-H9\"],\n",
    "    [\"C2-H2-C3-P4-P7\", \"P2-P5-C5-H5-H6\", \"P3-C6-T6-P8-H8\"],\n",
    "    [\"T2-T3-C5-H5-T9\", \"C2-P3-T5-T7-H9\", \"P2-C3-T4-P7-C7\"],\n",
    "    [\"P3-H4-H5-C7-P8\", \"P2-H6-C8-C9-T9\", \"T3-H3-P4-T4-C5\"],\n",
    "    [\"C3-T4-H4-T5-H8\", \"C2-C4-C7-C8-T8\", \"H3-P6-C6-T6-P9\"],\n",
    "    [\"C2-C5-T5-C6-C9\", \"P3-T3-P6-T7-H8\", \"C3-C4-T4-C8-T9\"],\n",
    "    [\"T5-C6-P7-C7-P9\", \"P3-H3-P4-T4-P6\", \"T2-P5-H5-H6-H7\"],\n",
    "    [\"H2-C4-T5-P9-H9\", \"T3-P7-T7-C8-T9\", \"P3-C3-P6-H7-C9\"],\n",
    "    [\"P4-P6-H6-C7-P9\", \"H2-H3-C4-H7-H8\", \"P2-C2-P5-T6-C8\"],\n",
    "    [\"P2-T2-H7-P9-C9\", \"P3-H3-H4-T5-P6\", \"C2-H5-T6-P7-T7\"],\n",
    "]"
   ]
  },
  {
   "cell_type": "markdown",
   "metadata": {},
   "source": [
    "# Nákupy\n",
    "\n",
    "V souboru [GroceryBasket.csv](GroceryBasket.csv) máš typy produktů, které nakupují zákazníci jednoho supermarketu. Jeden řádek vždy představuje jeden typ nákupu a data na řádku jsou jednotlivé typy položek v jeho/jejím košíku. Kterou dvojici typů produktů nakupují zákazníci nejčastěji?\n",
    "\n",
    "Pro řešení můžeš využít modul `itertools`, který je součástí Pythonu. Funkce `itertools.combinations()` ti ze seznamu položek vygeneruje všechny kombinace. Protože potřebuješ dvojice, vlož jako druhý parametr funkce číslo 2. S využitím této funkce můžeš vygenerovat všechny dvojice produktů v každém nákupním košíku a spočítat, jak často se která z nich vyskytuje."
   ]
  },
  {
   "cell_type": "code",
   "execution_count": 4,
   "metadata": {},
   "outputs": [
    {
     "name": "stdout",
     "output_type": "stream",
     "text": [
      "[('Produce', 'Dairy & Eggs'), ('Produce', 'Meat & Poultry'), ('Dairy & Eggs', 'Meat & Poultry')]\n"
     ]
    }
   ],
   "source": [
    "import itertools\n",
    "# Příklad seznamu produktů\n",
    "items = [\"Produce\", \"Dairy & Eggs\", \"Meat & Poultry\"]\n",
    "# Vytvoření dvojic\n",
    "current_combinations = itertools.combinations(items, 2)\n",
    "# Převod na seznam\n",
    "current_combinations = list(current_combinations)\n",
    "print(current_combinations)"
   ]
  }
 ],
 "metadata": {
  "kernelspec": {
   "display_name": "Python 3",
   "language": "python",
   "name": "python3"
  },
  "language_info": {
   "codemirror_mode": {
    "name": "ipython",
    "version": 3
   },
   "file_extension": ".py",
   "mimetype": "text/x-python",
   "name": "python",
   "nbconvert_exporter": "python",
   "pygments_lexer": "ipython3",
   "version": "3.11.2"
  },
  "orig_nbformat": 4
 },
 "nbformat": 4,
 "nbformat_minor": 2
}
