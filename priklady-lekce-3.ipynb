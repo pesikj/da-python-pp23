{
 "cells": [
  {
   "cell_type": "markdown",
   "metadata": {},
   "source": [
    "# Hráči 2\n",
    "\n",
    "Tento příklad je rozšířením příkladu Hráči z [bonusových příkladů na lekci 11.9.2023](priklady-lekce-3.ipynb).\n",
    "\n",
    "Oproti původnímu zadání nyní dostávají hráči 8. Stále platí, že každá z karet je označena dvěma písmeny - barvou (H, T, C, P - označují kříže, káry, srdce a píky) a hodnotou (čísla od 2 do 9).\n",
    "\n",
    "Hráči mohou získat body, pokud mají řadu alespoň tří karet (může jich být i více) s po sobě jdoucími hodnotami (např. H3-T4-H5-P6), získá počet bodů, který odpovídá součtu všech hodnot v řadě (pro daný příklad je počet bodů 3+4+5+6 = 18). Pokud má hráč více karet stejné hodnoty, počítá se do bodů pouze jedna z karet. Karty jsou vždy seřazené dle čísla a následně dle barvy v pořadí H, T, C, P. Vypočítej pro 10 řádků (10 her) součet bodů pro všechny hráče. Pozor ale, že nyní může mít každý hráč během jedné hry řad více. Například může mít karty \"H2-C3-T4-H7-C8-P8-H9-T9\". V takovém případě dostává 2+3+4 = 9 bodů za první řadu a 7+8+9 za druhou řadu."
   ]
  },
  {
   "cell_type": "code",
   "execution_count": null,
   "metadata": {},
   "outputs": [],
   "source": [
    "data = [\n",
    "    [\"H2-C4-T5-H5-T6\", \"P2-T2-C3-T4-P8\", \"P3-T3-P4-T7-H9\"],\n",
    "    [\"C2-H2-C3-P4-P7\", \"P2-P5-C5-H5-H6\", \"P3-C6-T6-P8-H8\"],\n",
    "    [\"T2-T3-C5-H5-T9\", \"C2-P3-T5-T7-H9\", \"P2-C3-T4-P7-C7\"],\n",
    "    [\"P3-H4-H5-C7-P8\", \"P2-H6-C8-C9-T9\", \"T3-H3-P4-T4-C5\"],\n",
    "    [\"C3-T4-H4-T5-H8\", \"C2-C4-C7-C8-T8\", \"H3-P6-C6-T6-P9\"],\n",
    "    [\"C2-C5-T5-C6-C9\", \"P3-T3-P6-T7-H8\", \"C3-C4-T4-C8-T9\"],\n",
    "    [\"T5-C6-P7-C7-P9\", \"P3-H3-P4-T4-P6\", \"T2-P5-H5-H6-H7\"],\n",
    "    [\"H2-C4-T5-P9-H9\", \"T3-P7-T7-C8-T9\", \"P3-C3-P6-H7-C9\"],\n",
    "    [\"P4-P6-H6-C7-P9\", \"H2-H3-C4-H7-H8\", \"P2-C2-P5-T6-C8\"],\n",
    "    [\"P2-T2-H7-P9-C9\", \"P3-H3-H4-T5-P6\", \"C2-H5-T6-P7-T7\"],\n",
    "]"
   ]
  },
  {
   "cell_type": "markdown",
   "metadata": {},
   "source": [
    "# Nákupy\n",
    "\n",
    "V souboru [GroceryBasket.csv](GroceryBasket.csv) máš typy produktů, které nakupují zákazníci jednoho supermarketu. Jeden řádek vždy představuje jeden typ nákupu a data na řádku jsou jednotlivé typy položek v jeho/jejím košíku. Kterou dvojici typů produktů nakupují zákazníci nejčastěji?\n",
    "\n",
    "Pro řešení můžeš využít modul `itertools`, který je součástí Pythonu. Funkce `itertools.combinations()` ti ze seznamu položek vygeneruje všechny kombinace. Protože potřebuješ dvojice, vlož jako druhý parametr funkce číslo 2. S využitím této funkce můžeš vygenerovat všechny dvojice produktů v každém nákupním košíku a spočítat, jak často se která z nich vyskytuje."
   ]
  },
  {
   "cell_type": "code",
   "execution_count": 4,
   "metadata": {},
   "outputs": [
    {
     "name": "stdout",
     "output_type": "stream",
     "text": [
      "[('Produce', 'Dairy & Eggs'), ('Produce', 'Meat & Poultry'), ('Dairy & Eggs', 'Meat & Poultry')]\n"
     ]
    }
   ],
   "source": [
    "import itertools\n",
    "# Příklad seznamu produktů\n",
    "items = [\"Produce\", \"Dairy & Eggs\", \"Meat & Poultry\"]\n",
    "# Vytvoření dvojic\n",
    "current_combinations = itertools.combinations(items, 2)\n",
    "# Převod na seznam\n",
    "current_combinations = list(current_combinations)\n",
    "print(current_combinations)"
   ]
  }
 ],
 "metadata": {
  "kernelspec": {
   "display_name": "Python 3",
   "language": "python",
   "name": "python3"
  },
  "language_info": {
   "codemirror_mode": {
    "name": "ipython",
    "version": 3
   },
   "file_extension": ".py",
   "mimetype": "text/x-python",
   "name": "python",
   "nbconvert_exporter": "python",
   "pygments_lexer": "ipython3",
   "version": "3.11.2"
  },
  "orig_nbformat": 4
 },
 "nbformat": 4,
 "nbformat_minor": 2
}
