{
 "cells": [
  {
   "attachments": {},
   "cell_type": "markdown",
   "metadata": {},
   "source": [
    "# Funkce\n",
    "\n",
    "## Násobení"
   ]
  },
  {
   "cell_type": "code",
   "execution_count": 1,
   "metadata": {},
   "outputs": [
    {
     "name": "stdout",
     "output_type": "stream",
     "text": [
      "45\n"
     ]
    }
   ],
   "source": [
    "def mult(a, b):\n",
    "    return a * b\n",
    "# Příklad použití\n",
    "vysledek = mult(5, 9)\n",
    "print(vysledek)"
   ]
  },
  {
   "attachments": {},
   "cell_type": "markdown",
   "metadata": {},
   "source": [
    "## Hotel"
   ]
  },
  {
   "cell_type": "code",
   "execution_count": 3,
   "metadata": {},
   "outputs": [
    {
     "name": "stdout",
     "output_type": "stream",
     "text": [
      "2550\n",
      "2550\n",
      "1950\n",
      "1950\n"
     ]
    }
   ],
   "source": [
    "def total_price(persons, breakfast=False):\n",
    "    price = persons * 850\n",
    "    \n",
    "    if breakfast:\n",
    "        price = price + persons * 125\n",
    "    return price\n",
    "\n",
    "# Můžu využít trik - pravdivostní hodnotu je možné násobit s číslem\n",
    "# Pokud je pravdivostní hodnota True, při násobení je použita hodnota 1\n",
    "# Pokud je pravdivostní hodnota False, při násobení je použita hodnota 0\n",
    "\n",
    "def total_price_2(persons, breakfast=False):\n",
    "    return persons * (850 + breakfast * 125)\n",
    "\n",
    "print(total_price(3))\n",
    "print(total_price_2(3))\n",
    "print(total_price(2, True))\n",
    "print(total_price_2(2, True))"
   ]
  },
  {
   "cell_type": "markdown",
   "metadata": {},
   "source": [
    "## Rámeček"
   ]
  },
  {
   "cell_type": "code",
   "execution_count": 5,
   "metadata": {},
   "outputs": [
    {
     "name": "stdout",
     "output_type": "stream",
     "text": [
      "********\n",
      "* Ahoj *\n",
      "********\n",
      "###################\n",
      "# Mám ráda Python #\n",
      "###################\n"
     ]
    }
   ],
   "source": [
    "def obalit_text(text, znak):\n",
    "    delka = len(text) + 2 + 2\n",
    "    oddelovac = znak * delka\n",
    "    print(oddelovac)\n",
    "    print(f\"{znak} {text} {znak}\")\n",
    "    print(oddelovac)\n",
    "\n",
    "obalit_text(\"Ahoj\", \"*\")\n",
    "obalit_text(\"Mám ráda Python\", \"#\")"
   ]
  },
  {
   "attachments": {},
   "cell_type": "markdown",
   "metadata": {},
   "source": [
    "## Měsíc narození"
   ]
  },
  {
   "cell_type": "code",
   "execution_count": 6,
   "metadata": {},
   "outputs": [
    {
     "name": "stdout",
     "output_type": "stream",
     "text": [
      "7\n",
      "5\n"
     ]
    }
   ],
   "source": [
    "def month_of_birth(birth_number):\n",
    "    month = int(birth_number[2:4])\n",
    "    # Použiju zbytek po celočíselném dělení\n",
    "    month = month % 50\n",
    "    return month\n",
    "print(month_of_birth('9207054439'))\n",
    "print(month_of_birth('9555125899'))"
   ]
  },
  {
   "attachments": {},
   "cell_type": "markdown",
   "metadata": {},
   "source": [
    "## Zarovnání výpisu"
   ]
  },
  {
   "cell_type": "code",
   "execution_count": 43,
   "metadata": {},
   "outputs": [
    {
     "name": "stdout",
     "output_type": "stream",
     "text": [
      "     7728\n",
      "       88\n",
      "   958621\n",
      "     5941\n",
      "959847272\n",
      "     3944\n",
      "       80\n",
      "      521\n",
      "    57035\n",
      "  3967894\n",
      ".....7728\n",
      ".......88\n",
      "...958621\n",
      ".....5941\n",
      "959847272\n",
      ".....3944\n",
      ".......80\n",
      "......521\n",
      "....57035\n",
      "..3967894\n"
     ]
    }
   ],
   "source": [
    "def format_number(number, spaces, symbol):\n",
    "    len_number = len(str(number))\n",
    "    output = \"\"\n",
    "    symbol_count = spaces - len_number\n",
    "    for _ in range(0, symbol_count):\n",
    "        output = output + symbol\n",
    "    output = output + str(number)\n",
    "    return output\n",
    "\n",
    "\n",
    "numbers = [7728, 88, 958621, 5941, 959847272, 3944, 80, 521, 57035, 3967894]\n",
    "max_number = max(numbers)\n",
    "max_number_length = len(str(max_number))\n",
    "for number in numbers:\n",
    "    print(format_number(number, max_number_length, \" \"))\n",
    "for number in numbers:\n",
    "    print(format_number(number, max_number_length, \".\"))"
   ]
  },
  {
   "attachments": {},
   "cell_type": "markdown",
   "metadata": {},
   "source": [
    "## Ruleta"
   ]
  },
  {
   "cell_type": "code",
   "execution_count": 44,
   "metadata": {},
   "outputs": [
    {
     "name": "stdout",
     "output_type": "stream",
     "text": [
      "Číslo je 24.\n",
      "0\n",
      "0\n",
      "9000\n"
     ]
    }
   ],
   "source": [
    "import random\n",
    "\n",
    "def roulette(number, line, bet):\n",
    "    if number == 0:\n",
    "        return 0\n",
    "    if number % 3 == 1 and line == 1:\n",
    "        return bet * 3\n",
    "    if number % 3 == 2 and line == 2:\n",
    "        return bet * 3\n",
    "    if number % 3 == 0 and line == 3:\n",
    "        return bet * 3\n",
    "    return 0\n",
    "\n",
    "number = random.randint(0, 36)\n",
    "print(f\"Číslo je {number}.\")\n",
    "# Sázíme na řadu 1 částku 1000\n",
    "print(roulette(number, 1, 1000))\n",
    "# Sázíme na řadu 2 částku 2000\n",
    "print(roulette(number, 2, 2000))\n",
    "# Sázíme na řadu 3 částku 3000\n",
    "print(roulette(number, 3, 3000))"
   ]
  },
  {
   "attachments": {},
   "cell_type": "markdown",
   "metadata": {},
   "source": [
    "## Zpřeházená písmena"
   ]
  },
  {
   "cell_type": "code",
   "execution_count": 42,
   "metadata": {},
   "outputs": [
    {
     "name": "stdout",
     "output_type": "stream",
     "text": [
      "Solvo je stláe mnžoé pdloonhě přsíčet, kydž jsou ponícmhaá peímnsa. Stačí, když prnví a pnldeosí pnmseío je na své pozici záhvcaono. Nipaš fucnki, ktreá bude mít jkao vpntusí paetmrar svloo a vtárí slovo, kde zzepřáhí vhcešny zknay kmroě pnvhrío a pdseníohlo. None\n"
     ]
    }
   ],
   "source": [
    "import random\n",
    "def suffle_text(text):\n",
    "    # Rozdělíme řetězec na seznam\n",
    "    text_list = text.split(\" \")\n",
    "    for word in text_list:\n",
    "        # Strip je zde kvůli zalomení řádku\n",
    "        word = word.strip()\n",
    "        if len(word) > 2:\n",
    "            # Pokud je těsně za slovem tečka nebo čárka, musíme ji dát pryč\n",
    "            if word[-1] in [\",\", \".\"]:\n",
    "                last_character = word[-1]\n",
    "                word = word[:-1]\n",
    "            else:\n",
    "                last_character = \"\"\n",
    "            center_part = list(word[1:-1])\n",
    "            random.shuffle(center_part)\n",
    "            center_part = \"\".join(center_part)\n",
    "            print(f\"{word[0]}{center_part}{word[-1]}{last_character}\", end=\" \")\n",
    "        elif len(word) > 0:\n",
    "            print(word, end=\" \")\n",
    "\n",
    "text = '''Slovo je stále možné pohodlně přečíst, když jsou pomíchaná písmena. \n",
    "Stačí, když první a poslední písmeno je na své pozici zachováno. Napiš funkci, \n",
    "která bude mít jako vstupní parametr slovo a vrátí slovo, kde zpřehází všechny \n",
    "znaky kromě prvního a posledního.\n",
    "'''\n",
    "print(suffle_text(text))"
   ]
  },
  {
   "attachments": {},
   "cell_type": "markdown",
   "metadata": {},
   "source": [
    "## Nápravy"
   ]
  },
  {
   "cell_type": "code",
   "execution_count": 40,
   "metadata": {},
   "outputs": [
    {
     "name": "stdout",
     "output_type": "stream",
     "text": [
      "2000\n",
      "18000\n"
     ]
    }
   ],
   "source": [
    "def spocitel_pokutu(pocet_naprav, hmotnost):\n",
    "    limit = 0\n",
    "    if pocet_naprav == 2:\n",
    "        limit = 18\n",
    "    elif pocet_naprav == 3:\n",
    "        limit = 25\n",
    "    elif pocet_naprav == 4:\n",
    "        limit = 32\n",
    "    elif pocet_naprav == 5:\n",
    "        limit = 48\n",
    "    \n",
    "    if hmotnost <= limit:\n",
    "        return 0\n",
    "    else:\n",
    "        return (hmotnost - limit) * 1000\n",
    "\n",
    "pokuta = spocitel_pokutu(4, 34)\n",
    "print(pokuta)\n",
    "\n",
    "vazeni = [\n",
    "    [4, 33],\n",
    "    [2, 19],\n",
    "    [3, 29],\n",
    "    [3, 27],\n",
    "    [5, 53],\n",
    "    [5, 51],\n",
    "    [2, 20],\n",
    "]\n",
    "celkova_pokuta = 0\n",
    "for vozidlo in vazeni:\n",
    "    pokuta = spocitel_pokutu(vozidlo[0], vozidlo[1])\n",
    "    celkova_pokuta = celkova_pokuta + pokuta\n",
    "print(celkova_pokuta)"
   ]
  }
 ],
 "metadata": {
  "kernelspec": {
   "display_name": ".venv",
   "language": "python",
   "name": "python3"
  },
  "language_info": {
   "codemirror_mode": {
    "name": "ipython",
    "version": 3
   },
   "file_extension": ".py",
   "mimetype": "text/x-python",
   "name": "python",
   "nbconvert_exporter": "python",
   "pygments_lexer": "ipython3",
   "version": "3.11.2"
  },
  "orig_nbformat": 4
 },
 "nbformat": 4,
 "nbformat_minor": 2
}
