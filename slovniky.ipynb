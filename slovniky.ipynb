{
 "cells": [
  {
   "cell_type": "markdown",
   "metadata": {},
   "source": [
    "# Řešení příkladů z lekce Další datové struktury\n",
    "\n",
    "## Slovníky\n",
    "\n",
    "### Vysvědčení"
   ]
  },
  {
   "cell_type": "code",
   "execution_count": 1,
   "metadata": {},
   "outputs": [
    {
     "name": "stdout",
     "output_type": "stream",
     "text": [
      "{'Český jazyk': 1, 'Matematika': 2, 'Dějepis': 3}\n"
     ]
    }
   ],
   "source": [
    "schoolReport = {\"Český jazyk\": 1, \"Matematika\": 2, \"Dějepis\": 3}\n",
    "print(schoolReport)"
   ]
  },
  {
   "cell_type": "markdown",
   "metadata": {},
   "source": [
    "### Detektivky"
   ]
  },
  {
   "cell_type": "code",
   "execution_count": null,
   "metadata": {},
   "outputs": [],
   "source": [
    "sales = {\n",
    "    \"Zkus mě chytit\": 4165,\n",
    "    \"Vrah zavolá v deset\": 5681,\n",
    "    \"Zločinný steh\": 2565,\n",
    "}\n",
    "sales[\"Noc, která mě zabila\"] = 0\n",
    "sales[\"Vrah zavolá v deset\"] += 100\n",
    "\n",
    "# Pro kontrolu\n",
    "print(sales)"
   ]
  },
  {
   "cell_type": "markdown",
   "metadata": {},
   "source": [
    "### Tombola"
   ]
  },
  {
   "cell_type": "code",
   "execution_count": null,
   "metadata": {},
   "outputs": [],
   "source": [
    "tombola = {\n",
    "    7: \"Láhev kvalitního vína Château Headache\",\n",
    "    15: \"Pytel brambor z místního družstva\",\n",
    "    23: \"Čokoládový dort\",\n",
    "    47: \"Kniha o historii města\",\n",
    "    55: \"Šiška salámu\",\n",
    "    67: \"Vyhlídkový let balónem\",\n",
    "    79: \"Moderní televizor\",\n",
    "    91: \"Roční předplatné městského zpravodaje\",\n",
    "    93: \"Společenská hra Sázky a dostihy\",\n",
    "}\n",
    "\n",
    "number = int(input(\"Zadejte číslo lístku: \"))\n",
    "if number in tombola:\n",
    "  print(f\"Vyhráváš: {tombola[number]}.\")\n",
    "else:\n",
    "  print(\"Bohužel nevyhráváš nic.\")"
   ]
  },
  {
   "cell_type": "markdown",
   "metadata": {},
   "source": [
    "### Paranoidní večírek"
   ]
  },
  {
   "cell_type": "code",
   "execution_count": 2,
   "metadata": {},
   "outputs": [
    {
     "name": "stdout",
     "output_type": "stream",
     "text": [
      "Smíš vstoupit.\n"
     ]
    }
   ],
   "source": [
    "passwords = {\"Jiří\": \"tajne-heslo\", \"Natálie\": \"jeste-tajnejsi-heslo\", \"Klára\": \"nejtajnejsi-heslo\"}\n",
    "name = input(\"Zadej jméno: \")\n",
    "if name in passwords:\n",
    "  password = input(\"Zadej heslo: \")\n",
    "  if password == passwords[name]:\n",
    "    print(\"Smíš vstoupit.\")\n",
    "  else:\n",
    "    password = input(\"Nesprávné heslo. Zadej heslo znovu: \")\n",
    "    if password == passwords[name]:\n",
    "      print(\"Smíš vstoupit.\")\n",
    "    else:\n",
    "      print(\"Neznáš heslo, vstup zakázán.\")\n",
    "else:\n",
    "  print(\"Nejsi na seznamu hostů.\")"
   ]
  },
  {
   "cell_type": "markdown",
   "metadata": {},
   "source": [
    "## Slovníky a cykly\n",
    "\n",
    "### Vysvědčení 2"
   ]
  },
  {
   "cell_type": "code",
   "execution_count": 3,
   "metadata": {},
   "outputs": [
    {
     "name": "stdout",
     "output_type": "stream",
     "text": [
      "Český jazyk\n",
      "Anglický jazyk\n",
      "Matematika\n",
      "Dějepis\n",
      "Pruměrná známka je 2.1\n"
     ]
    }
   ],
   "source": [
    "school_report = {\n",
    "    \"Český jazyk\": 1,\n",
    "    \"Anglický jazyk\": 1,\n",
    "    \"Matematika\": 1,\n",
    "    \"Přírodopis\": 2,\n",
    "    \"Dějepis\": 1,\n",
    "    \"Fyzika\": 2,\n",
    "    \"Hudební výchova\": 4,\n",
    "    \"Výtvarná výchova\": 2,\n",
    "    \"Tělesná výchova\": 3,\n",
    "    \"Chemie\": 4,\n",
    "}\n",
    "\n",
    "sum_of_marks = 0\n",
    "for key, value in school_report.items():\n",
    "    sum_of_marks = sum_of_marks + value\n",
    "    if value == 1:\n",
    "        print(key)\n",
    "print(f\"Pruměrná známka je {sum_of_marks/len(school_report)}\")"
   ]
  },
  {
   "cell_type": "code",
   "execution_count": 4,
   "metadata": {},
   "outputs": [
    {
     "name": "stdout",
     "output_type": "stream",
     "text": [
      "Gustav celkem přečetl 3377 stran.\n",
      "Gustav dal 3 knihám alespoň 8 bodů.\n"
     ]
    }
   ],
   "source": [
    "books = [\n",
    "    {\"title\": \"Vražda s příliš mnoha notami\", \"pages\": 450, \"rating\": 5},\n",
    "    {\"title\": \"Vražda podle knihy\", \"pages\": 524, \"rating\": 9},\n",
    "    {\"title\": \"Past\", \"pages\": 390, \"rating\": 4},\n",
    "    {\"title\": \"Popel popelu\", \"pages\": 411, \"rating\": 10},\n",
    "    {\"title\": \"Noc, která mě zabila\", \"pages\": 159, \"rating\": 7},\n",
    "    {\"title\": \"Vražda, kouř a stíny\", \"pages\": 258, \"rating\": 6},\n",
    "    {\"title\": \"Zločinný steh\", \"pages\": 542, \"rating\": 8},\n",
    "    {\"title\": \"Zkus mě chytit\", \"pages\": 247, \"rating\": 7},\n",
    "    {\"title\": \"Vrah zavolá v deset\", \"pages\": 396, \"rating\": 6},\n",
    "]\n",
    "\n",
    "total_pages = 0\n",
    "for book in books:\n",
    "  total_pages += book[\"pages\"]\n",
    "print(f\"Gustav celkem přečetl {total_pages} stran.\")\n",
    "\n",
    "great_books = 0\n",
    "for book in books:\n",
    "  if book[\"rating\"] >= 8:\n",
    "    great_books = great_books + 1\n",
    "print(f\"Gustav dal {great_books} knihám alespoň 8 bodů.\")"
   ]
  },
  {
   "cell_type": "markdown",
   "metadata": {},
   "source": [
    "### Poznávací značky"
   ]
  },
  {
   "cell_type": "code",
   "execution_count": 5,
   "metadata": {},
   "outputs": [
    {
     "name": "stdout",
     "output_type": "stream",
     "text": [
      "Jana Pilná\n",
      "Marta Nováková\n"
     ]
    }
   ],
   "source": [
    "plates = {\n",
    "  \"4A2 3000\": \"František Novák\", \n",
    "  \"6P5 4747\": \"Jana Pilná\",\n",
    "  \"3B7 3652\": \"Jaroslav Sečkár\", \n",
    "  \"1P5 5269\": \"Marta Nováková\", \n",
    "  \"37E 1252\": \"Martina Matušková\",\n",
    "  \"2A5 2241\": \"Jan Král\"\n",
    "  }\n",
    "\n",
    "for key, value in plates.items():\n",
    "  if key[1] == \"P\":\n",
    "    print(value)"
   ]
  },
  {
   "cell_type": "markdown",
   "metadata": {},
   "source": [
    "### Recepty"
   ]
  },
  {
   "cell_type": "code",
   "execution_count": 8,
   "metadata": {},
   "outputs": [
    {
     "name": "stdout",
     "output_type": "stream",
     "text": [
      "Celková cena je 57.6 Kč.\n"
     ]
    }
   ],
   "source": [
    "recipe = {\n",
    "    'nazev': 'Batáty se šalvějí a pancettou',\n",
    "    'narocnost': 'stredni',\n",
    "    'doba': 30,\n",
    "    'ingredience': [\n",
    "        ['batát', '1', '15 kč'],\n",
    "        ['olivový olej', '2 lžíce', '2 kč'],\n",
    "        ['pancetta', '4-6 plátků', '21 kč'],\n",
    "        ['přepuštěné máslo', '2 lžíce', '5 kč'],\n",
    "        ['mletý černý pepř', '1/2 lžičky', '0.5 kč'],\n",
    "        ['sůl', '1/2 lžičky', '0.1 kč'],\n",
    "        ['muškátový oříšek', 'špetka', '1 kč'],\n",
    "        ['česnek', '2 stroužky', '1 kč'],\n",
    "        ['šalvějové lístky', '20-25', '12 kč']\n",
    "    ]\n",
    "}\n",
    "total_price = 0\n",
    "for item in recipe[\"ingredience\"]:\n",
    "    price = item[2]\n",
    "    price = price.split()[0]\n",
    "    price = float(price)\n",
    "    total_price = total_price + price\n",
    "print(f\"Celková cena je {total_price} Kč.\")"
   ]
  }
 ],
 "metadata": {
  "kernelspec": {
   "display_name": "Python 3",
   "language": "python",
   "name": "python3"
  },
  "language_info": {
   "codemirror_mode": {
    "name": "ipython",
    "version": 3
   },
   "file_extension": ".py",
   "mimetype": "text/x-python",
   "name": "python",
   "nbconvert_exporter": "python",
   "pygments_lexer": "ipython3",
   "version": "3.11.2"
  },
  "orig_nbformat": 4
 },
 "nbformat": 4,
 "nbformat_minor": 2
}
