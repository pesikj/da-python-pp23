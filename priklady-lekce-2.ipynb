{
 "cells": [
  {
   "cell_type": "markdown",
   "metadata": {},
   "source": [
    "# Závod\n",
    "\n",
    "Níže jsou data běžců maratonu, který se beží na počet Emila Zátopka. Závod se běží ve Stromovce a úspěšnému dokončení závodu je třeba absolvovat 8 kol po cca 5.27 kilometrech (celkem 42.195 km). Na začátku vnořeného seznamu je jméno běžce nebo běžkyně, ostatní položky označují časy v jednotlivých kolech.\n",
    "\n",
    "Tvým úkolem je data zpracovat a pro každého z běžců a běžkyň vypsat níže uvedené informace. Pro zpracování je vhodné data převést na číslo, např. na minuty. Pokud výpis není celé číslo, proveď  zaokrouhlení na dvě desetinná místa.\n",
    "\n",
    "* Občas se stane, že někdo ze závodníků \"přepálí start\", tj. běží na začátku příliš rychle a poté jim docházejí síly. Spočítej rozdíl mezi časem prvního a posledního kola.\n",
    "* Profesionálové někdy doporučují běžet prvních cca 30 km stálým tempem. Uvažuj tedy prvních pět kol závodu a urči čas nejrychleji a nejpomaleji zaběhnutého kola. Nakonec vypiš rozdíl mezi těmito dvěma časy.\n",
    "* Nyní uvažuj všechna kola závodu. Pro každého běžce vypiš číslo jeho nejrychlejšího a číslo jeho nejpomalejšího kola. Při výpisu uvažuj počítání od jedničky.\n",
    "* Spočítej průměrnou rychlost v kilometrech za hodinu. K tomu využij vzorec \"čas v hodinách / 42.195\".\n",
    "\n",
    "Dále spočítej následující statistiky pro všechny běžce.\n",
    "- Kolik běžců a běžkyň zaběhlo nejrychleji první kolo a nejpomaleji poslední kolo? Výsledek vypiš v počtech i procentech."
   ]
  },
  {
   "cell_type": "code",
   "execution_count": null,
   "metadata": {},
   "outputs": [],
   "source": [
    "data = [\n",
    "    [\"SPLÍTEK Karel\", \"19:08.4\", \"19:00.8\", \"19:01.4\", \"18:43.8\", \"19:31.8\", \"20:06.6\", \"21:35.9\", \"22:37.2\"],\n",
    "    [\"WEIHS Robert\", \"19:45.0\", \"19:56.4\", \"20:15.3\", \"20:42.4\", \"21:24.5\", \"22:42.4\", \"23:14.4\", \"23:33.0\"],\n",
    "    [\"HURYCH Jakub\", \"19:59.2\", \"20:28.7\", \"20:48.5\", \"21:30.1\", \"22:12.6\", \"22:29.7\", \"23:15.1\", \"23:01.5\"],\n",
    "    [\"SVATOŇ Jan\", \"22:14.6\", \"22:06.0\", \"22:10.1\", \"22:01.1\", \"22:11.2\", \"22:04.2\", \"21:48.7\", \"21:24.6\"],\n",
    "]"
   ]
  }
 ],
 "metadata": {
  "kernelspec": {
   "display_name": "Python 3",
   "language": "python",
   "name": "python3"
  },
  "language_info": {
   "codemirror_mode": {
    "name": "ipython",
    "version": 3
   },
   "file_extension": ".py",
   "mimetype": "text/x-python",
   "name": "python",
   "nbconvert_exporter": "python",
   "pygments_lexer": "ipython3",
   "version": "3.11.2"
  },
  "orig_nbformat": 4
 },
 "nbformat": 4,
 "nbformat_minor": 2
}
