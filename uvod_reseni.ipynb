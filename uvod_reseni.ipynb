{
 "cells": [
  {
   "cell_type": "markdown",
   "metadata": {},
   "source": [
    "### Součet čísel v seznamu"
   ]
  },
  {
   "cell_type": "code",
   "execution_count": 1,
   "metadata": {},
   "outputs": [
    {
     "name": "stdout",
     "output_type": "stream",
     "text": [
      "15\n"
     ]
    }
   ],
   "source": [
    "input = [5, 6, 1, 3]\n",
    "\n",
    "sum_of_numbers = 0\n",
    "for item in input:\n",
    "    sum_of_numbers = sum_of_numbers + item\n",
    "print(sum_of_numbers)"
   ]
  },
  {
   "cell_type": "markdown",
   "metadata": {},
   "source": [
    "### Největší prvek v seznamu"
   ]
  },
  {
   "cell_type": "code",
   "execution_count": 4,
   "metadata": {},
   "outputs": [
    {
     "name": "stdout",
     "output_type": "stream",
     "text": [
      "6\n"
     ]
    }
   ],
   "source": [
    "input = [5, 6, 1, 3]\n",
    "\n",
    "# Tento řádek je docela záhadný. Nestačila by jako výchozí hodnota 0? Co by se potom stalo, kdyby v seznamu byla pouze záporná čísla?\n",
    "max_number = input[0]\n",
    "for item in input:\n",
    "    if item > max_number:\n",
    "        max_number = item\n",
    "print(max_number)"
   ]
  },
  {
   "cell_type": "markdown",
   "metadata": {},
   "source": [
    "### Sudá čísla"
   ]
  },
  {
   "cell_type": "code",
   "execution_count": 5,
   "metadata": {},
   "outputs": [
    {
     "name": "stdout",
     "output_type": "stream",
     "text": [
      "6\n"
     ]
    }
   ],
   "source": [
    "input = [5, 6, 1, 3]\n",
    "\n",
    "for item in input:\n",
    "    if item % 2 == 0:\n",
    "        print(item)"
   ]
  },
  {
   "cell_type": "markdown",
   "metadata": {},
   "source": [
    "### Rozdělení čísel"
   ]
  },
  {
   "cell_type": "code",
   "execution_count": 6,
   "metadata": {},
   "outputs": [
    {
     "name": "stdout",
     "output_type": "stream",
     "text": [
      "[6]\n",
      "[5, 1, 3]\n"
     ]
    }
   ],
   "source": [
    "input = [5, 6, 1, 3]\n",
    "\n",
    "even_numbers = []\n",
    "odd_numbers = []\n",
    "\n",
    "for item in input:\n",
    "    if item % 2 == 0:\n",
    "        even_numbers.append(item)\n",
    "    else:\n",
    "        odd_numbers.append(item)\n",
    "print(even_numbers)\n",
    "print(odd_numbers)"
   ]
  },
  {
   "cell_type": "markdown",
   "metadata": {},
   "source": [
    "### Odstranění duplikátů"
   ]
  },
  {
   "cell_type": "code",
   "execution_count": 7,
   "metadata": {},
   "outputs": [
    {
     "name": "stdout",
     "output_type": "stream",
     "text": [
      "[5, 6, 1, 3, 7]\n"
     ]
    }
   ],
   "source": [
    "input = [5, 6, 1, 3, 5, 5, 6, 7]\n",
    "\n",
    "output = []\n",
    "\n",
    "for item in input:\n",
    "    if item not in output:\n",
    "        output.append(item)\n",
    "\n",
    "print(output)"
   ]
  },
  {
   "attachments": {},
   "cell_type": "markdown",
   "metadata": {},
   "source": [
    "### Přijímačky"
   ]
  },
  {
   "cell_type": "code",
   "execution_count": 2,
   "metadata": {},
   "outputs": [
    {
     "name": "stdout",
     "output_type": "stream",
     "text": [
      "1.25\n",
      "1.25\n"
     ]
    }
   ],
   "source": [
    "import statistics\n",
    "\n",
    "school_report = [\n",
    "    [\"Český jazyk\", 1],\n",
    "    [\"Anglický jazyk\", 1],\n",
    "    [\"Matematika\", 1],\n",
    "    [\"Přírodopis\", 2],\n",
    "    [\"Dějepis\", 1],\n",
    "    [\"Fyzika\", 2],\n",
    "    [\"Hudební výchova\", 4],\n",
    "    [\"Výtvarná výchova\", 2],\n",
    "    [\"Tělesná výchova\", 3],\n",
    "    [\"Chemie\", 4],\n",
    "]\n",
    "\n",
    "marks = []\n",
    "for row in school_report:\n",
    "    if row[0] in [\"Český jazyk\", \"Anglický jazyk\", \"Matematika\", \"Fyzika\"]:\n",
    "        marks.append(row[1])\n",
    "print(statistics.mean(marks))\n",
    "\n",
    "# Alternativní řešení bez modulu statistics\n",
    "sum_of_marks = 0\n",
    "count_of_marks = 0\n",
    "for row in school_report:\n",
    "    if row[0] in [\"Český jazyk\", \"Anglický jazyk\", \"Matematika\", \"Fyzika\"]:\n",
    "        sum_of_marks = sum_of_marks + row[1]\n",
    "        count_of_marks = count_of_marks + 1\n",
    "print(sum_of_marks/count_of_marks)"
   ]
  },
  {
   "attachments": {},
   "cell_type": "markdown",
   "metadata": {},
   "source": [
    "### Rodná čísla"
   ]
  },
  {
   "cell_type": "code",
   "execution_count": null,
   "metadata": {},
   "outputs": [],
   "source": [
    "rodna_cisla = [\n",
    "    \"845128/6219\",\n",
    "    \"806002/5021\",\n",
    "    \"900116/8291\",\n",
    "    \"790501/7894\",\n",
    "    \"850706/9259\",\n",
    "    \"891222/1824\",\n",
    "    \"870327/9582\",\n",
    "    \"810602/6883\",\n",
    "    \"850512/5070\",\n",
    "    \"790531/7081\"\n",
    "]\n",
    "\"\"\"\n",
    "Na začátku musím vytvořit proměnou zeny, které nastavím hodnotu 0.\n",
    "Podobnou úlohu bychom mohli řešit pomocí tužky a papíru - procházeli bychom\n",
    "záznamy a dělali si čárku pro každou ženu. Proměnná zeny představuje\n",
    "připravený prázdný papír. Zatím jsme nezačali hledat, takže na papíře\n",
    "nemáže žádnou čárku.\n",
    "\"\"\"\n",
    "zeny = 0\n",
    "for aktualni in rodna_cisla:\n",
    "    # Uložím si číslo měsíce. Musím ho převést na int, aby šlo porovnat\n",
    "    mesic = int(aktualni[2] + aktualni[3])\n",
    "    # Pokud je měsíce více než 50, navýším proměnnou zeny o 1\n",
    "    # Tj. udělám si čárku na paprí\n",
    "    if mesic > 50:\n",
    "        zeny = zeny + 1\n",
    "\n",
    "# Alternativní řešení - můžeme vzít první číslici a porovnat ji s 5\n",
    "zeny = 0\n",
    "for aktualni in rodna_cisla:\n",
    "    # Porovnání dvou řetězců je možné, porovnání je podobné jako \n",
    "    # porovnání písmen a číslic v abecedě\n",
    "    mesic_prvni_cislice = aktualni[2]\n",
    "    if mesic_prvni_cislice >= \"5\":\n",
    "        zeny = zeny + 1\n",
    "print(zeny)\n",
    "muzi = len(rodna_cisla) - zeny\n",
    "print(muzi)"
   ]
  },
  {
   "attachments": {},
   "cell_type": "markdown",
   "metadata": {},
   "source": [
    "### Fahrnheit vs. Celsius"
   ]
  },
  {
   "cell_type": "code",
   "execution_count": 5,
   "metadata": {},
   "outputs": [
    {
     "name": "stdout",
     "output_type": "stream",
     "text": [
      "Teplota je 100.0 stupňů Celsia\n"
     ]
    }
   ],
   "source": [
    "farenheit = float(input(\"Zadej teplotu ve stupních Farenheita\"))\n",
    "celsius = 5 * (farenheit - 32) / 9\n",
    "print(f\"Teplota je {celsius} stupňů Celsia\")"
   ]
  }
 ],
 "metadata": {
  "kernelspec": {
   "display_name": "Python 3",
   "language": "python",
   "name": "python3"
  },
  "language_info": {
   "codemirror_mode": {
    "name": "ipython",
    "version": 3
   },
   "file_extension": ".py",
   "mimetype": "text/x-python",
   "name": "python",
   "nbconvert_exporter": "python",
   "pygments_lexer": "ipython3",
   "version": "3.11.2"
  },
  "orig_nbformat": 4
 },
 "nbformat": 4,
 "nbformat_minor": 2
}
