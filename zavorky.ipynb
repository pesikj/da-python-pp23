{
 "cells": [
  {
   "attachments": {},
   "cell_type": "markdown",
   "metadata": {},
   "source": [
    "## Závorky v Pythonu"
   ]
  },
  {
   "attachments": {},
   "cell_type": "markdown",
   "metadata": {},
   "source": [
    "### Kulaté závorky\n",
    "\n",
    "Nejčastější použití kulatých závorek je při [volání funkcí](https://kodim.cz/programovani/uvod-do-progr-1/prvni-krucky/funkce-moduly/funkce)."
   ]
  },
  {
   "cell_type": "code",
   "execution_count": 22,
   "metadata": {},
   "outputs": [
    {
     "name": "stdout",
     "output_type": "stream",
     "text": [
      "8\n"
     ]
    }
   ],
   "source": [
    "cislo = 8.3454\n",
    "zaokrouhlene_cislo = round(cislo)\n",
    "print(zaokrouhlene_cislo)"
   ]
  },
  {
   "attachments": {},
   "cell_type": "markdown",
   "metadata": {},
   "source": [
    "Též je využijeme při volání [metod](https://kodim.cz/programovani/uvod-do-progr-2/uvod-do-programovani-2/slicing-metody-moduly/metody). Kulaté závorky při volání funkcí i metod musíme použít i v případě, že do nich nic nepíšeme."
   ]
  },
  {
   "cell_type": "code",
   "execution_count": 23,
   "metadata": {},
   "outputs": [
    {
     "name": "stdout",
     "output_type": "stream",
     "text": [
      "PYTHON\n"
     ]
    }
   ],
   "source": [
    "predmet = \"Python\"\n",
    "predmet = predmet.upper()\n",
    "print(predmet)"
   ]
  },
  {
   "attachments": {},
   "cell_type": "markdown",
   "metadata": {},
   "source": [
    "Dále je používáme při klasických výpočtech."
   ]
  },
  {
   "cell_type": "code",
   "execution_count": 24,
   "metadata": {},
   "outputs": [
    {
     "name": "stdout",
     "output_type": "stream",
     "text": [
      "2\n"
     ]
    }
   ],
   "source": [
    "cena_za_prespani = 1200\n",
    "cena_snidane = 200\n",
    "pocet_osob = 2\n",
    "cena_celkem = (cena_za_prespani + cena_snidane) * pocet_osob\n",
    "print(pocet_osob)"
   ]
  },
  {
   "attachments": {},
   "cell_type": "markdown",
   "metadata": {},
   "source": [
    "Při [vytváření (definici) nových funkcí](https://kodim.cz/programovani/uvod-do-progr-2/uvod-do-programovani-2/vlastni-funkce/funkce)"
   ]
  },
  {
   "cell_type": "code",
   "execution_count": 25,
   "metadata": {},
   "outputs": [],
   "source": [
    "def secti_cisla(a, b):\n",
    "    return a + b"
   ]
  },
  {
   "attachments": {},
   "cell_type": "markdown",
   "metadata": {},
   "source": [
    "A můžeme na ně narazit i při vytváření [n-tice](https://kodim.cz/programovani/uvod-do-progr-2/uvod-do-programovani-2/slovniky/n-tice) (tam ale nejsou povinné):"
   ]
  },
  {
   "cell_type": "code",
   "execution_count": 26,
   "metadata": {},
   "outputs": [],
   "source": [
    "polozka = (\"Čajová konvička s hrnky\", 899, True)"
   ]
  },
  {
   "attachments": {},
   "cell_type": "markdown",
   "metadata": {},
   "source": [
    "### Hranaté závorky\n",
    "\n",
    "Hranaté závorky využijeme při práci se seznamy."
   ]
  },
  {
   "cell_type": "code",
   "execution_count": 27,
   "metadata": {},
   "outputs": [
    {
     "name": "stdout",
     "output_type": "stream",
     "text": [
      "[2, 3, 2, 4, 1]\n"
     ]
    }
   ],
   "source": [
    "# Vytvoření nového seznamu\n",
    "znamky = [2, 3, 2, 4, 2]\n",
    "# Přečtení hodnoty ze seznamu\n",
    "posledni_znamka = znamky[-1]\n",
    "# Uložení hodnoty na konkrétní pozici v seznamu\n",
    "# Zde například zlepšíme poslední známku o jeden stupeň, protože student odevzdal výbornou písemnou práci\n",
    "znamky[-1] = posledni_znamka - 1\n",
    "print(znamky)"
   ]
  },
  {
   "attachments": {},
   "cell_type": "markdown",
   "metadata": {},
   "source": [
    "Pomocí [slicing](https://kodim.cz/programovani/uvod-do-progr-2/uvod-do-programovani-2/slicing-metody-moduly/slicing) můžeme získat více hodnot najednou - například tři hodnoty ze začátku. \n",
    "\n",
    "Slicing má smysl jen ve chvíli, kdy chci pouze část hodnot ze seznamu. Pokud chci celý seznam, napíšu jen název proměnné a hranaté závorky nepoužívám."
   ]
  },
  {
   "cell_type": "code",
   "execution_count": 28,
   "metadata": {},
   "outputs": [
    {
     "name": "stdout",
     "output_type": "stream",
     "text": [
      "[2, 3, 2]\n"
     ]
    }
   ],
   "source": [
    "znamky = [2, 3, 2, 4, 2]\n",
    "pocatecni_tri_znamky = znamky[:3]\n",
    "print(pocatecni_tri_znamky)"
   ]
  },
  {
   "cell_type": "code",
   "execution_count": 29,
   "metadata": {},
   "outputs": [
    {
     "name": "stdout",
     "output_type": "stream",
     "text": [
      "5\n"
     ]
    }
   ],
   "source": [
    "# Určení počtu známek pomocí funkce len\n",
    "pocet_znamek = len(znamky)\n",
    "# Tento řádek by zjistil to samé slicing je zbytečný, pokud chci pracovat s celým seznamem\n",
    "# pocet_znamek = len(znamky[0:])\n",
    "print(pocet_znamek)"
   ]
  },
  {
   "attachments": {},
   "cell_type": "markdown",
   "metadata": {},
   "source": [
    "Získávat hodnotu pomocí hranatých závorek můžeme i z řetězců"
   ]
  },
  {
   "cell_type": "code",
   "execution_count": 30,
   "metadata": {},
   "outputs": [],
   "source": [
    "jmeno = \"Jirka\"\n",
    "prijmeni = \"Pešík\"\n",
    "inicialy = jmeno[0] + prijmeni[0]"
   ]
  },
  {
   "attachments": {},
   "cell_type": "markdown",
   "metadata": {},
   "source": [
    "## Chlupaté závorky\n",
    "Chlupaté závorky využíváme při práci s formátovanými řetězci"
   ]
  },
  {
   "cell_type": "code",
   "execution_count": 31,
   "metadata": {},
   "outputs": [
    {
     "name": "stdout",
     "output_type": "stream",
     "text": [
      "Moje poslední známka je 2.\n"
     ]
    }
   ],
   "source": [
    "znamky = [2, 3, 2, 4, 2]\n",
    "posledni_znamka = znamky[-1]\n",
    "print(f\"Moje poslední známka je {posledni_znamka}.\")"
   ]
  },
  {
   "attachments": {},
   "cell_type": "markdown",
   "metadata": {},
   "source": [
    "Dále je používáme při vytváření [slovníků](https://kodim.cz/kurzy/uvod-do-progr-2/uvod-do-programovani-2/slovniky/slovniky)"
   ]
  },
  {
   "cell_type": "code",
   "execution_count": 32,
   "metadata": {},
   "outputs": [],
   "source": [
    "polozka = {\"title\": \"Čajová konvička s hrnky\", \"price\": 899, \"in_stock\": True}"
   ]
  }
 ],
 "metadata": {
  "kernelspec": {
   "display_name": "Python 3",
   "language": "python",
   "name": "python3"
  },
  "language_info": {
   "codemirror_mode": {
    "name": "ipython",
    "version": 3
   },
   "file_extension": ".py",
   "mimetype": "text/x-python",
   "name": "python",
   "nbconvert_exporter": "python",
   "pygments_lexer": "ipython3",
   "version": "3.9.13"
  },
  "orig_nbformat": 4
 },
 "nbformat": 4,
 "nbformat_minor": 2
}
