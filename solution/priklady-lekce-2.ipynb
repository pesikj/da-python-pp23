{
 "cells": [
  {
   "cell_type": "code",
   "execution_count": 22,
   "metadata": {},
   "outputs": [
    {
     "name": "stdout",
     "output_type": "stream",
     "text": [
      "SPLÍTEK Karel\n",
      "Rozdíl mezi prvním a posledním kolem je 3.48 min.\n",
      "Rozdíl mezi nejrychlejším a nejpomalejším časem v rámci prvních pěti kol je 0.8 min.\n",
      "Nejrychleji zaběhl(a) 4. a nejpomaleji 8. kolo.\n",
      "Průměrná rychlost je 15.85 km/h.\n",
      "WEIHS Robert\n",
      "Rozdíl mezi prvním a posledním kolem je 3.8 min.\n",
      "Rozdíl mezi nejrychlejším a nejpomalejším časem v rámci prvních pěti kol je 1.66 min.\n",
      "Nejrychleji zaběhl(a) 1. a nejpomaleji 8. kolo.\n",
      "Průměrná rychlost je 14.76 km/h.\n",
      "HURYCH Jakub\n",
      "Rozdíl mezi prvním a posledním kolem je 3.04 min.\n",
      "Rozdíl mezi nejrychlejším a nejpomalejším časem v rámci prvních pěti kol je 2.22 min.\n",
      "Nejrychleji zaběhl(a) 1. a nejpomaleji 7. kolo.\n",
      "Průměrná rychlost je 14.57 km/h.\n",
      "SVATOŇ Jan\n",
      "Rozdíl mezi prvním a posledním kolem je -0.83 min.\n",
      "Rozdíl mezi nejrychlejším a nejpomalejším časem v rámci prvních pěti kol je 0.22 min.\n",
      "Nejrychleji zaběhl(a) 8. a nejpomaleji 1. kolo.\n",
      "Průměrná rychlost je 14.38 km/h.\n",
      "__________\n",
      "První kolo zaběhlo nejrychleji 2 (50 %) běžců a běžkyň a poslední nejpomaleji 2 (50 %) běžců a běžkyň.\n"
     ]
    }
   ],
   "source": [
    "data = [\n",
    "    [\"SPLÍTEK Karel\", \"19:08.4\", \"19:00.8\", \"19:01.4\", \"18:43.8\", \"19:31.8\", \"20:06.6\", \"21:35.9\", \"22:37.2\"],\n",
    "    [\"WEIHS Robert\", \"19:45.0\", \"19:56.4\", \"20:15.3\", \"20:42.4\", \"21:24.5\", \"22:42.4\", \"23:14.4\", \"23:33.0\"],\n",
    "    [\"HURYCH Jakub\", \"19:59.2\", \"20:28.7\", \"20:48.5\", \"21:30.1\", \"22:12.6\", \"22:29.7\", \"23:15.1\", \"23:01.5\"],\n",
    "    [\"SVATOŇ Jan\", \"22:14.6\", \"22:06.0\", \"22:10.1\", \"22:01.1\", \"22:11.2\", \"22:04.2\", \"21:48.7\", \"21:24.6\"],\n",
    "]\n",
    "first_fastest = 0\n",
    "last_slowest = 0\n",
    "for row in data:\n",
    "    times = row[1:]\n",
    "    times_float = []\n",
    "    for item in times:\n",
    "        item = item.split(\":\")\n",
    "        times_float.append(int(item[0]) + float(item[1]) / 60)\n",
    "    first_last_difference = times_float[-1] - times_float[0]\n",
    "    print(row[0])\n",
    "    print(f\"Rozdíl mezi prvním a posledním kolem je {round(first_last_difference, 2)} min.\")\n",
    "    fastest_slowest_difference = max(times_float[:5]) - min(times_float[:5])\n",
    "    print(f\"Rozdíl mezi nejrychlejším a nejpomalejším časem v rámci prvních pěti kol je {round(fastest_slowest_difference, 2)} min.\")\n",
    "    fastes_round = times_float.index(min(times_float)) + 1\n",
    "    if fastes_round == 1:\n",
    "        first_fastest = first_fastest + 1\n",
    "    slowest_round = times_float.index(max(times_float)) + 1\n",
    "    if slowest_round == 8:\n",
    "        last_slowest = last_slowest + 1\n",
    "    print(f\"Nejrychleji zaběhl(a) {fastes_round}. a nejpomaleji {slowest_round}. kolo.\")\n",
    "    print(f\"Průměrná rychlost je {round(42.195 / (sum(times_float) / 60), 2)} km/h.\")\n",
    "print(\"_\" * 10)\n",
    "print(f\"První kolo zaběhlo nejrychleji {first_fastest} ({round(first_fastest / len(data) * 100)} %) běžců a běžkyň a poslední nejpomaleji {last_slowest} ({round(last_slowest / len(data) * 100)} %) běžců a běžkyň.\")"
   ]
  }
 ],
 "metadata": {
  "kernelspec": {
   "display_name": "Python 3",
   "language": "python",
   "name": "python3"
  },
  "language_info": {
   "codemirror_mode": {
    "name": "ipython",
    "version": 3
   },
   "file_extension": ".py",
   "mimetype": "text/x-python",
   "name": "python",
   "nbconvert_exporter": "python",
   "pygments_lexer": "ipython3",
   "version": "3.11.2"
  },
  "orig_nbformat": 4
 },
 "nbformat": 4,
 "nbformat_minor": 2
}
