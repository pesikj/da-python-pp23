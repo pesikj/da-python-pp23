{
 "cells": [
  {
   "cell_type": "markdown",
   "metadata": {},
   "source": [
    "# Kryptoměny"
   ]
  },
  {
   "cell_type": "code",
   "execution_count": 4,
   "metadata": {},
   "outputs": [
    {
     "name": "stdout",
     "output_type": "stream",
     "text": [
      "Hodnota úspor Markéty je 53314 dolarů.\n"
     ]
    }
   ],
   "source": [
    "rates = {\"Polcoin\": 0.47, \"PyCoin\": 0.21, \"Czechitacoin\": 0.13}\n",
    "total_value = 0\n",
    "\n",
    "with open(\"../transaction_list.csv\") as soubor:\n",
    "    for line in soubor:\n",
    "        line_split = line.strip().split(\";\")\n",
    "        total_value = total_value + float(line_split[1]) * rates[line_split[2]]\n",
    "print(f\"Hodnota úspor Markéty je {round(total_value)} dolarů.\")"
   ]
  },
  {
   "cell_type": "markdown",
   "metadata": {},
   "source": [
    "\n"
   ]
  },
  {
   "cell_type": "code",
   "execution_count": 9,
   "metadata": {},
   "outputs": [
    {
     "name": "stdout",
     "output_type": "stream",
     "text": [
      "{'Marta Nováková': {'work_hours': 117, 'holiday_taken': 64, 'holiday_remaining': 56, 'care': 0, 'unpaid': 0}, 'Michael Rostock-Poplar': {'work_hours': 101, 'holiday_taken': 48, 'holiday_remaining': 48, 'care': 24, 'unpaid': 0}, 'Ondřej Bartoš': {'work_hours': 144, 'holiday_taken': 32, 'holiday_remaining': 8, 'care': 8, 'unpaid': 0}, 'Daniela Bérová': {'work_hours': 104, 'holiday_taken': 64, 'holiday_remaining': 104, 'care': 8, 'unpaid': 0}, 'Ivan Pilný': {'work_hours': 135, 'holiday_taken': 32, 'holiday_remaining': 0, 'care': 8, 'unpaid': 0}}\n",
      "{'TrendVision': 133, 'DataDive': 89, 'PulseCheck': 116, 'Mandala': 119, 'FinanceFlare': 144}\n",
      "{'TrendVision': {'Marta Nováková': 98, 'Michael Rostock-Poplar': 35}, 'DataDive': {'Marta Nováková': 19, 'Daniela Bérová': 70}, 'PulseCheck': {'Michael Rostock-Poplar': 28, 'Daniela Bérová': 34, 'Ivan Pilný': 54}, 'Mandala': {'Michael Rostock-Poplar': 38, 'Ivan Pilný': 81}, 'FinanceFlare': {'Ondřej Bartoš': 144}}\n"
     ]
    }
   ],
   "source": [
    "import json\n",
    "with open(\"../work_hours.json\", encoding=\"utf-8\") as file:\n",
    "    data = json.load(file)\n",
    "\n",
    "remaining_holiday = {\"Marta Nováková\": 120, \"Michael Rostock-Poplar\": 96, \"Ondřej Bartoš\": 40, \"Daniela Bérová\": 168, \"Ivan Pilný\": 32}\n",
    "\n",
    "report = {}\n",
    "report_projects = {}\n",
    "report_projects_detail = {}\n",
    "\n",
    "\"\"\"\n",
    "\"Marta Nováková\": {\"work_hours\": 120, \"holiday_taken\": 24, \"holiday_remaining\": 24, \"care\": 8, \"unpaid\": 8 }\n",
    "\"\"\"\n",
    "for row in data:\n",
    "    employee = row[\"employee\"]\n",
    "    if employee not in report:\n",
    "        report[employee] = {\"work_hours\": 0, \"holiday_taken\": 0, \"holiday_remaining\": remaining_holiday[employee], \"care\": 0, \"unpaid\": 0}\n",
    "    if row[\"record_type\"] == \"holiday\":\n",
    "        report[employee][\"holiday_taken\"] += 8\n",
    "        report[employee][\"holiday_remaining\"] -= 8\n",
    "    elif row[\"record_type\"] == \"care\":\n",
    "        report[employee][\"care\"] += 8\n",
    "    elif row[\"record_type\"] == \"unpaid\":\n",
    "        report[employee][\"unpaid\"] += 8\n",
    "    else:\n",
    "        report[employee][\"work_hours\"] += sum(row[\"worked_on\"].values())\n",
    "        for project_name, work_hours in row[\"worked_on\"].items():\n",
    "            report_projects[project_name] = report_projects.get(project_name, 0) + work_hours\n",
    "            if project_name not in report_projects_detail:\n",
    "                report_projects_detail[project_name] = {}\n",
    "            report_projects_detail[project_name][employee] = report_projects_detail[project_name].get(employee, 0) + work_hours\n",
    "print(report)\n",
    "print(report_projects)\n",
    "print(report_projects_detail)"
   ]
  },
  {
   "cell_type": "markdown",
   "metadata": {},
   "source": [
    "# Hráči"
   ]
  },
  {
   "cell_type": "code",
   "execution_count": 5,
   "metadata": {},
   "outputs": [
    {
     "name": "stdout",
     "output_type": "stream",
     "text": [
      "[24, 30, 20]\n",
      "[63, 69, 55]\n",
      "[83, 93, 73]\n",
      "[92, 93, 108]\n",
      "[112, 123, 117]\n",
      "[142, 132, 152]\n",
      "[181, 132, 182]\n",
      "[181, 156, 204]\n",
      "[207, 186, 213]\n",
      "[232, 186, 233]\n",
      "[232, 186, 233]\n"
     ]
    }
   ],
   "source": [
    "data = [\n",
    "    [\"C2-P4-C4-H4-H5-C7-H8-P9\", \"T2-P3-H3-C6-T7-H7-T8-C9\", \"P2-H2-C3-T4-P5-H6-T9-H9\"],\n",
    "    [\"C2-C4-H4-C5-C6-P7-P8-P9\", \"P2-C3-T4-H6-C7-C8-H8-C9\", \"H2-T3-H3-H5-T6-H7-T8-T9\"],\n",
    "    [\"P2-P3-C3-H4-H5-P6-T6-T8\", \"T2-H2-H3-P5-P7-C7-H8-P9\", \"C2-C5-T5-C6-H6-T7-T9-H9\"],\n",
    "    [\"T2-H3-H4-P6-H6-C8-T8-C9\", \"P2-C4-C5-T5-P7-C7-H7-H8\", \"P3-C3-T3-H5-C6-T7-P8-H9\"],\n",
    "    [\"T2-P3-P4-C5-T5-H6-C9-T9\", \"C2-C4-P5-P6-C6-H7-T8-H8\", \"H2-C3-H3-H4-T6-C7-T7-P9\"],\n",
    "    [\"C2-C3-P4-H4-C6-T7-C8-T8\", \"P2-T3-C4-T6-H6-P7-C7-C9\", \"T2-H2-C5-T5-P6-H7-H8-H9\"],\n",
    "    [\"P2-H3-T4-H4-C6-T7-H8-H9\", \"C2-T2-H2-T3-C5-H5-P7-C7\", \"P3-C3-C4-P6-T6-H7-T8-P9\"],\n",
    "    [\"T2-T4-H4-P5-T5-C7-P8-H8\", \"H2-P3-C3-H3-H5-T7-C8-P9\", \"P4-C4-C5-T6-P7-C9-T9-H9\"],\n",
    "    [\"H5-P6-T6-H6-T7-H7-C8-T8\", \"P2-H2-C4-P5-C6-P7-P8-H8\", \"T2-P3-C3-T3-P4-P9-C9-H9\"],\n",
    "    [\"T3-P4-T4-H4-C5-C6-P7-H7\", \"C2-T5-H5-P6-P8-C8-P9-H9\", \"P2-H2-C3-C4-P5-T6-T8-C9\"],\n",
    "]\n",
    "all_players_points = [0, 0, 0]\n",
    "for row in data:\n",
    "    player_number = 0\n",
    "    for player_cards in row:\n",
    "        player_cards = player_cards.split(\"-\")\n",
    "        cards_in_serie = []\n",
    "        points = 0\n",
    "        card_number = 0\n",
    "        for index, card in enumerate(player_cards):\n",
    "            current_card_value = int(card[1])\n",
    "            if len(cards_in_serie) == 0 or cards_in_serie[-1] + 1 == current_card_value:\n",
    "                cards_in_serie.append(current_card_value)\n",
    "            if cards_in_serie[-1] + 1 < current_card_value or index == len(player_cards) - 1:\n",
    "                if len(cards_in_serie) >= 3:\n",
    "                    points += sum(cards_in_serie)\n",
    "                cards_in_serie = [current_card_value, ]\n",
    "        all_players_points[player_number] += points\n",
    "        player_number += 1\n",
    "    print(all_players_points)\n",
    "print(all_players_points)\n",
    "            "
   ]
  },
  {
   "cell_type": "code",
   "execution_count": 2,
   "metadata": {},
   "outputs": [
    {
     "name": "stdout",
     "output_type": "stream",
     "text": [
      "Canned & Packaged Goods;Dairy & Eggs;11\n"
     ]
    }
   ],
   "source": [
    "import itertools\n",
    "\n",
    "r = 2\n",
    "combinations_count = {}\n",
    "with open('../GroceryBasket.csv') as csvfile:\n",
    "    for row in csvfile:\n",
    "        row = row.split(\";\")\n",
    "        item_list = []\n",
    "        for item in row:\n",
    "            if item not in item_list:\n",
    "                item_list.append(item)\n",
    "        current_combinations = itertools.combinations(item_list, r)\n",
    "        for combination in current_combinations:\n",
    "            if combination in combinations_count:\n",
    "                combinations_count[combination] = combinations_count[combination] + 1\n",
    "            else:\n",
    "                combinations_count[combination] = 1\n",
    "\n",
    "max_value = max(combinations_count.values())\n",
    "for key, value in combinations_count.items():\n",
    "    if value == max_value:\n",
    "        for item in key:\n",
    "            print(item, end=';')\n",
    "        print(value)\n"
   ]
  }
 ],
 "metadata": {
  "kernelspec": {
   "display_name": "Python 3",
   "language": "python",
   "name": "python3"
  },
  "language_info": {
   "codemirror_mode": {
    "name": "ipython",
    "version": 3
   },
   "file_extension": ".py",
   "mimetype": "text/x-python",
   "name": "python",
   "nbconvert_exporter": "python",
   "pygments_lexer": "ipython3",
   "version": "3.11.2"
  },
  "orig_nbformat": 4
 },
 "nbformat": 4,
 "nbformat_minor": 2
}
