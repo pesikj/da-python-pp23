{
 "cells": [
  {
   "cell_type": "markdown",
   "metadata": {},
   "source": [
    "# Lekce 5\n",
    "\n",
    "## Statistická rozdělení a testování statistických hypotéz"
   ]
  },
  {
   "cell_type": "code",
   "execution_count": 2,
   "metadata": {},
   "outputs": [],
   "source": [
    "import numpy as np\n",
    "import pandas as pd\n",
    "from scipy import stats\n",
    "import seaborn as sns"
   ]
  },
  {
   "cell_type": "markdown",
   "metadata": {},
   "source": [
    "### Testy na normální rozdělení\n",
    "\n",
    "Teoreticky je možné, že nějaká data, se kterými pracujeme, mají normální rozdělení. To se může často hodit. Některé statistické metody totiž mají **předpoklady**, které by měly být splněny, než je použijeme. Pokud nejsou předpoklady splněné, je vhodné použít alternativu. Například některé statistické testy hypotéz jsou označovány jako parametrické (*parametric*) a jiné jako neparametrické (*nonparametric*). Parametrické testy většinou předpokládají, že data mají normální rozdělení, neparametrické testy to nevyžadují.\n",
    "\n",
    "Statistické testy jsou různě citlivé na odchylky od normality. Napříkald t-test je poměrně *robustní* a funguje dobře i pro data, která nemají normální rozdělení, pokud máme *dostatečné množství* dat (tj. minimálně vyšší desítky). Jiné testy jsou bohužel citlivější a v případě jejich využití bychom mohli dojít k nesprávnému závěru ohledně platnosti nulové hypotézy.\n",
    "\n",
    "Pokud nevíme, zda jsou předpoklady splněné, můžeme je otestovat. Testování předpokladů probíhá stejně, jako v případě samotného testu zkoumaného problému. Začneme tedy formulací hypotéz. V případě, že testujeme, zda mají data normální rozdělení (často se říká \"normalita data\"), formulujeme hypotézy takto:\n",
    "\n",
    "- H0: Data mají normální rozdělení.\n",
    "- H1: Data nemají normální rozdělení.\n",
    "\n",
    "K otestování můžeme využít řadu testů. Součásti `scipy` je několik testů. Například funcke `normaltest()` kombinuje D'Agostinův a Pearsonův test. Proveďme nyní test hypotézy o středních hodnotách dvou souborů včetně ověření předpokladů. Nejprve tedy formulujeme hypotézu normality, otestujeme ji a na základě výsledku se rozhodneme, který test použít na otestování hypotézy o středních hodnotách.\n",
    "\n",
    "Nyní se podívejme na data o marketingové propagaci fast-foodového řetězce ze serveru [kaggle.com](https://www.kaggle.com/datasets/chebotinaa/fast-food-marketing-campaign-ab-test/data), která jsou uložená v souboru [WA_Marketing-Campaign.csv](WA_Marketing-Campaign.csv).\n",
    "\n",
    "Budou nás zajímat tyto sloupce:\n",
    "\n",
    "- `Promotion` - typ propagace, která byla pro daný obchod provedena (existují 2 možné hodnoty, tj. máme dvě různé marketingové kampaně).\n",
    "- `SalesInThousands` - tržby v tisících.\n",
    "- `MarketSize` - velikost trhu v dané lokalitě.\n",
    "\n",
    "Formulujeme si hypotézy.\n",
    "\n",
    "- H0: Střední hodnota tržeb pro oba typy propagace jsou stejné.\n",
    "- H1: Střední hodnota tržeb pro typy propagace se liší.\n",
    "\n",
    "Opět porovnáváme mezi sebou dva průměry (dvě střední hodnoty)."
   ]
  },
  {
   "cell_type": "code",
   "execution_count": 5,
   "metadata": {},
   "outputs": [],
   "source": [
    "data = pd.read_csv(\"WA_Marketing-Campaign.csv\")"
   ]
  },
  {
   "cell_type": "markdown",
   "metadata": {},
   "source": [
    "Rozdělíme si data do samostatných tabulek. Abychom neměli data ovlivněné velikostí trhu v dané oblasti, budeme zkoumat pouze lokality s `MarketSize` `Medium`."
   ]
  },
  {
   "cell_type": "code",
   "execution_count": 6,
   "metadata": {},
   "outputs": [
    {
     "data": {
      "text/plain": [
       "Promotion\n",
       "2    27\n",
       "1    24\n",
       "Name: count, dtype: int64"
      ]
     },
     "execution_count": 6,
     "metadata": {},
     "output_type": "execute_result"
    }
   ],
   "source": [
    "data = data[data[\"MarketSize\"] == \"Medium\"]\n",
    "data = data.reset_index()\n",
    "data[\"Promotion\"].value_counts()"
   ]
  },
  {
   "cell_type": "markdown",
   "metadata": {},
   "source": [
    "Vidíme, že tentokrát máme relativně málo dat, mnohem méně, než kolik jsme jich měli minule při testování krevního tlaku. Měli bychom tedy ověřit, že zda data normální rozdělení skutečně mají."
   ]
  },
  {
   "cell_type": "markdown",
   "metadata": {},
   "source": [
    "Data si rozdělíme do samostatných tabulek."
   ]
  },
  {
   "cell_type": "code",
   "execution_count": 12,
   "metadata": {},
   "outputs": [],
   "source": [
    "data_promotion_1 = data[data[\"Promotion\"] == 1]\n",
    "data_promotion_2 = data[data[\"Promotion\"] == 2]"
   ]
  },
  {
   "cell_type": "markdown",
   "metadata": {},
   "source": [
    "K testu normality můžeme použít například funkci `normaltest`, která kombinuje D'Agostinův a Pearsonův test.\n",
    "\n",
    "Jak by vypadaly hypotézy pro tento test?\n",
    "\n",
    "- H0: Data mají normální rozdělení.\n",
    "- H1: Data nemají normální rozdělení."
   ]
  },
  {
   "cell_type": "code",
   "execution_count": 13,
   "metadata": {},
   "outputs": [
    {
     "data": {
      "text/plain": [
       "NormaltestResult(statistic=0.8205090264294883, pvalue=0.6634813638704963)"
      ]
     },
     "execution_count": 13,
     "metadata": {},
     "output_type": "execute_result"
    }
   ],
   "source": [
    "stats.normaltest(data_promotion_1[\"SalesInThousands\"])"
   ]
  },
  {
   "cell_type": "code",
   "execution_count": 14,
   "metadata": {},
   "outputs": [
    {
     "data": {
      "text/plain": [
       "NormaltestResult(statistic=0.46009553155047445, pvalue=0.7944956518962357)"
      ]
     },
     "execution_count": 14,
     "metadata": {},
     "output_type": "execute_result"
    }
   ],
   "source": [
    "stats.normaltest(data_promotion_2[\"SalesInThousands\"])"
   ]
  },
  {
   "cell_type": "markdown",
   "metadata": {},
   "source": [
    "Opět se orientujeme podle p-hodnoty. Ta je ve všech případech menší než 0.05, měli bychom nulovou hypotézu zamítnout. Dále tedy budeme postupovat s tím, že data nemají normální rozdělení.\n",
    "\n",
    "Zamysleme se nyní nad výběrem vhodného testu. Shrňme si informace, které víme.\n",
    "\n",
    "- Počet výběrů (souborů, *samples*): Porovnáváme mezi sebou dva různé výběry, tj. potřebujeme dvouvýběrový test.\n",
    "- Porovnáváme střední hodnotu (průměr) výběrů.\n",
    "- Naše data nemají normální rozdělení.\n",
    "- Oba výběry jsou nezávislé, nejde o párová pozorování.\n",
    "\n",
    "Předposlední bod nám znemožňuje použití t-testu. V přehledech statistických testů bychom našli alternativou k t-testu, která nevyžaduje normální rozdělení, a tou je Mann Whitney U test. Tento test nám nabízel i Chat GPT."
   ]
  },
  {
   "cell_type": "code",
   "execution_count": 15,
   "metadata": {},
   "outputs": [
    {
     "data": {
      "text/plain": [
       "1.6631617818603044e-12"
      ]
     },
     "execution_count": 15,
     "metadata": {},
     "output_type": "execute_result"
    }
   ],
   "source": [
    "statistics, pvalue = stats.mannwhitneyu(data_promotion_1[\"Promotion\"], data_promotion_2[\"Promotion\"])\n",
    "pvalue"
   ]
  },
  {
   "cell_type": "markdown",
   "metadata": {},
   "source": [
    "Protože p-hodnota je menší než 0.05, na běžně používané hladině významnosti bychom nulovou hypotézu zamítli. Jinými slovy, prokázali jsme, že průměrné tržby v restauraci jsou ovlivněné typem reklamní kampaně."
   ]
  },
  {
   "attachments": {},
   "cell_type": "markdown",
   "metadata": {},
   "source": [
    "## Přehled statistických testů v Pythonu\n",
    "\n",
    "Tato část vám pomůže s výběrem vhodného testu pro vaše projekty.\n",
    "\n",
    "Při výběru testu je možné použít i rozhodovací stromy, zde je příklad [jednoho z nich](strom_1.png). Zde [druhý](strom_2.png), poněkud složitější.\n",
    "\n",
    "### Testy s jedním výběrem\n",
    "\n",
    "Tyto testy porovnávají jeden výber (jeden sloupec tabulky) oproti nějaké skutečnosti.\n",
    "\n",
    "#### Testy na průměr\n",
    "\n",
    "Testy na průměr porovnávají průměr výběru s nějakou námi definovanou hodnotou. U testů na průměr můžeme alternativní hypotézu formulovat pomocí znaménka není rovno, menší než nebo větší než.\n",
    "\n",
    "Níže jsou příklady dvojic hypotéz. Pro test hypotézy můžeme využít následující testy:\n",
    "\n",
    "* [t-test](https://docs.scipy.org/doc/scipy/reference/generated/scipy.stats.ttest_1samp.html#scipy.stats.ttest_1samp), který předpokládá, že data mají normální rozdělení.\n",
    "\n",
    "* H0: Průměrná výška basketbalistek v České republice je 180 cm\n",
    "* H1: Průměrná výška basketbalistek v České republice je více než 180 cm"
   ]
  },
  {
   "cell_type": "code",
   "execution_count": 23,
   "metadata": {},
   "outputs": [
    {
     "name": "stdout",
     "output_type": "stream",
     "text": [
      "TtestResult(statistic=-0.7936270159024009, pvalue=0.44783036238501905, df=9)\n"
     ]
    }
   ],
   "source": [
    "import pandas\n",
    "from scipy import stats\n",
    "\n",
    "data = [170, 180, 175, 183, 178, 182, 185, 176, 179, 181]\n",
    "data = pandas.DataFrame(data, columns=[\"sloupec_1\"])\n",
    "res = stats.ttest_1samp(data[\"sloupec_1\"], 180)\n",
    "print(res)"
   ]
  },
  {
   "attachments": {},
   "cell_type": "markdown",
   "metadata": {},
   "source": [
    "* H0: Průměrná chyba při výrobě součástky do motoru je 0.1 mm\n",
    "* H1: Průměrná chyba při výrobě součástky do motoru je méně než 0.1 mm\n",
    "\n",
    "Zde v alternativní hypotéze říkáme to, že průměrná chyba je menší, proto využíváme parametr `alternative` (do něj píšeme stejné znaménko jako v alternativní hypotéze, tj. `less` nebo `greater`)."
   ]
  },
  {
   "cell_type": "code",
   "execution_count": 24,
   "metadata": {},
   "outputs": [
    {
     "name": "stdout",
     "output_type": "stream",
     "text": [
      "TtestResult(statistic=2.905487990874554, pvalue=0.9912805695458283, df=9)\n"
     ]
    }
   ],
   "source": [
    "data = [0.12, 0.10, 0.11, 0.13, 0.09, 0.11, 0.12, 0.10, 0.11, 0.12]\n",
    "data = pandas.DataFrame(data, columns=[\"sloupec_1\"])\n",
    "res = stats.ttest_1samp(data[\"sloupec_1\"], 0.1, alternative=\"less\")\n",
    "print(res)"
   ]
  },
  {
   "attachments": {},
   "cell_type": "markdown",
   "metadata": {},
   "source": [
    "* H0: Průměrné zpoždění vlaku z Prahy do Plzně s odjezdem v 18:38 je 5 minut\n",
    "* H1: Průměrné zpoždění vlaku z Prahy do Plzně s odjezdem v 18:38 není 5 minut (tj. je méně nebo více než 5 minut)"
   ]
  },
  {
   "cell_type": "code",
   "execution_count": 25,
   "metadata": {},
   "outputs": [
    {
     "name": "stdout",
     "output_type": "stream",
     "text": [
      "TtestResult(statistic=103.94469683442252, pvalue=0.9999999999999982, df=9)\n"
     ]
    }
   ],
   "source": [
    "data = [5.1, 4.9, 5.2, 4.8, 5.0, 5.1, 4.9, 5.2, 4.8, 5.0]\n",
    "data = pandas.DataFrame(data, columns=[\"sloupec_1\"])\n",
    "res = stats.ttest_1samp(data[\"sloupec_1\"], 0.1, alternative=\"less\")\n",
    "print(res)"
   ]
  },
  {
   "attachments": {},
   "cell_type": "markdown",
   "metadata": {},
   "source": [
    "#### Testy na rozdělení\n",
    "\n",
    "Příklad hypotéz:\n",
    "\n",
    "* H0: Ceny domů mají normální rozdělení\n",
    "* H1: Ceny domů nemají normální rozdělení\n",
    "\n",
    "Pro test hypotézy můžeme využít následující testy:\n",
    "\n",
    "* [Shapiro-Wilk test](https://docs.scipy.org/doc/scipy/reference/generated/scipy.stats.shapiro.html#scipy.stats.shapiro)\n",
    "* Kombinace D'Agostinova and Pearsonova testu, který provádí funkce [normaltest](https://docs.scipy.org/doc/scipy/reference/generated/scipy.stats.normaltest.html#scipy.stats.normaltest)."
   ]
  },
  {
   "cell_type": "code",
   "execution_count": 26,
   "metadata": {},
   "outputs": [
    {
     "data": {
      "text/plain": [
       "ShapiroResult(statistic=0.9605264663696289, pvalue=0.42506101727485657)"
      ]
     },
     "execution_count": 26,
     "metadata": {},
     "output_type": "execute_result"
    }
   ],
   "source": [
    "data = [0.74590569, 1.74565776, 0.58570378, 0.95159044, 0.58572699, 1.20722768, 0.38527559, 1.70051498, 1.10369079, 1.18765377, 1.7503144, \n",
    "        0.40093026, 1.2216318,  1.45744714, 1.95942974, 1.08444009, 1.07266436, 0.88722675, 0.48954167, 1.50261749, 1.27005193, 1.026523, 1.44374599, 1.54176153, 0.51657773]\n",
    "data = pandas.DataFrame(data, columns=[\"sloupec_1\"])\n",
    "res = stats.shapiro(data[\"sloupec_1\"])\n",
    "res"
   ]
  },
  {
   "cell_type": "code",
   "execution_count": 27,
   "metadata": {},
   "outputs": [
    {
     "data": {
      "text/plain": [
       "NormaltestResult(statistic=1.8353668908225964, pvalue=0.39944330233531283)"
      ]
     },
     "execution_count": 27,
     "metadata": {},
     "output_type": "execute_result"
    }
   ],
   "source": [
    "res = stats.normaltest(data[\"sloupec_1\"])\n",
    "res"
   ]
  },
  {
   "cell_type": "markdown",
   "metadata": {},
   "source": [
    "Pokud v hypotéze potřebujeme ověřit, zda data mají nějaké jiné rozdělení, můžeme použít [Kolmogorov-Smirnov test](https://docs.scipy.org/doc/scipy/reference/generated/scipy.stats.kstest.html#scipy.stats.kstest). Funkci dáváme jako parametr distribuční funkci (*cumulative distribution function*, CDF) rozdělení, se kterým chceme data srovnat. Test můžeme použít i pro normální rozdělení. Přehled rozdělení, která jsou v modulu `scipy` k dispozici, je [zde](https://docs.scipy.org/doc/scipy/reference/stats.html#probability-distributions)."
   ]
  },
  {
   "cell_type": "code",
   "execution_count": 28,
   "metadata": {},
   "outputs": [
    {
     "data": {
      "text/plain": [
       "KstestResult(statistic=0.649983377679607, pvalue=7.563148425063538e-11, statistic_location=0.38527559, statistic_sign=-1)"
      ]
     },
     "execution_count": 28,
     "metadata": {},
     "output_type": "execute_result"
    }
   ],
   "source": [
    "data[\"sloupec_1\"]\n",
    "stats.kstest(data[\"sloupec_1\"], stats.norm.cdf)"
   ]
  },
  {
   "attachments": {},
   "cell_type": "markdown",
   "metadata": {},
   "source": [
    "### Testy se dvěma statistickými soubory\n",
    "\n",
    "Tyto testy porovnávají dva různé statistické soubory.\n",
    "\n",
    "#### Testy na průměr\n",
    "\n",
    "U testu na průměr máme k dispozici poměrně hodně testů.\n",
    "\n",
    "Uvažujme nejprve párová pozorování. Párovými pozorování myslíme, že **každému pozorování z jednoho souboru** můžeme **přiřadit jiné pozorování podle nějakého logického klíče**. Například uvažujme školení pracovníků pracující u výrobní linky. Pokud máme data o rychlosti montáže pracovníků před školením (tj. počet smontovaných výrobků za jednotku času) a po školení, můžeme použít párování, protože rychlost před školením a po školení pro jednoho pracovníka tvoří párové pozorování. Pokud bychom chtěli porovnat rychlost pracovníků v jiných směnách nebo jiných závodech, nejedná se o párová pozorování.\n",
    "\n",
    "Příklad hypotéz:\n",
    "\n",
    "* H0: Rychlost montáže pracovníků před školením byla stejná jako po školení\n",
    "* H1: Rychlost montáže pracovníků před školením byla jiná než je po školení\n",
    "\n",
    "Pro test hypotézy můžeme použít [párový t-test](https://docs.scipy.org/doc/scipy/reference/generated/scipy.stats.ttest_rel.html#scipy.stats.ttest_rel). Test předpokládá, že data mají normální rozdělení."
   ]
  },
  {
   "cell_type": "code",
   "execution_count": 29,
   "metadata": {},
   "outputs": [
    {
     "data": {
      "text/plain": [
       "TtestResult(statistic=-25.03753938346132, pvalue=5.020951754927011e-13, df=14)"
      ]
     },
     "execution_count": 29,
     "metadata": {},
     "output_type": "execute_result"
    }
   ],
   "source": [
    "data = [\n",
    "    [10.5, 12.2],  # Pracovník 1\n",
    "    [9.8, 11.4],   # Pracovník 2\n",
    "    [10.2, 11.7],  # Pracovník 3\n",
    "    [10.1, 12.3],  # Pracovník 4\n",
    "    [9.9, 11.6],   # Pracovník 5\n",
    "    [10.6, 12.1],  # Pracovník 6\n",
    "    [9.7, 11.9],   # Pracovník 7\n",
    "    [10.3, 12.0],  # Pracovník 8\n",
    "    [9.6, 11.8],   # Pracovník 9\n",
    "    [10.4, 12.4],  # Pracovník 10\n",
    "    [10.0, 12.5],  # Pracovník 11\n",
    "    [9.5, 11.3],   # Pracovník 12\n",
    "    [10.7, 12.6],  # Pracovník 13\n",
    "    [9.4, 11.2],   # Pracovník 14\n",
    "    [10.8, 12.7]   # Pracovník 15\n",
    "]\n",
    "data = pandas.DataFrame(data, columns=[\"sloupec_1\", \"sloupec_2\"])\n",
    "res = stats.ttest_rel(data[\"sloupec_1\"], data[\"sloupec_2\"])\n",
    "res"
   ]
  },
  {
   "attachments": {},
   "cell_type": "markdown",
   "metadata": {},
   "source": [
    "Pro nepárové testy můžeme mít následující hypotézy:\n",
    "\n",
    "* H0: Rychlost montáže pracovníků v obou sledovaných směnách je stejná\n",
    "* H1: Rychlost montáže pracovníků v obou sledovaných směnách je různá\n",
    "\n",
    "Pro test hypotézy můžeme použít [t-test](https://docs.scipy.org/doc/scipy/reference/generated/scipy.stats.ttest_ind.html#scipy.stats.ttest_ind). Test předpokládám, že data mají normální rozdělení. U testu existují dvě varianty - jedna předpokládá, že data mají stejný rozptyl, druhá uvažuje, že soubory mají různé rozptyly."
   ]
  },
  {
   "cell_type": "code",
   "execution_count": 30,
   "metadata": {},
   "outputs": [
    {
     "data": {
      "text/plain": [
       "Ttest_indResult(statistic=-1.1295989413722716, pvalue=0.26822987045185975)"
      ]
     },
     "execution_count": 30,
     "metadata": {},
     "output_type": "execute_result"
    }
   ],
   "source": [
    "data = [\n",
    "    [12.2, 12.4], # První pracovník směny 1 a první pracovník směny 2\n",
    "    [11.4, 11.5], # Druhý pracovník směny 1 a druhý pracovník směny 2\n",
    "    [11.7, 11.8], \n",
    "    [12.3, 12.2], \n",
    "    [11.6, 11.7], \n",
    "    [12.1, 12.3], \n",
    "    [11.9, 11.8], \n",
    "    [12.0, 12.1], \n",
    "    [11.8, 11.7], \n",
    "    [12.4, 12.5], \n",
    "    [11.9, 12.4], \n",
    "    [12.7, 11.4], \n",
    "    [10.3, 12.7], \n",
    "    [9.11, 11.3], \n",
    "    [12.5, 12.6]\n",
    "    ]\n",
    "\n",
    "data = pandas.DataFrame(data, columns=[\"sloupec_1\", \"sloupec_2\"])\n",
    "res = stats.ttest_ind(data[\"sloupec_1\"], data[\"sloupec_2\"])\n",
    "res"
   ]
  },
  {
   "attachments": {},
   "cell_type": "markdown",
   "metadata": {},
   "source": [
    "#### Testy na rozdělení\n",
    "\n",
    "Testy na rozdělení umožňují porovnat, zda mají dva statistické soubory stejné rozdělení, tj. zda mají stejnou distrubuční funkci. Opět rozlišujeme párový a nepárový test.\n",
    "\n",
    "Pro párový test můžeme formulovat hypotézy:\n",
    "\n",
    "* H0: Rozdělení rychlosti montáže pracovníků po školení je stejná jako před školením\n",
    "* H1: Rozdělení rychlosti montáže pracovníků po školení je jiná než před školením\n",
    "\n",
    "Pro test můžeme použít [Wilcoxonův test](https://docs.scipy.org/doc/scipy/reference/generated/scipy.stats.wilcoxon.html#scipy.stats.wilcoxon). Test je neparametrický, tj. nevyžaduje normální rozdělení."
   ]
  },
  {
   "cell_type": "code",
   "execution_count": 31,
   "metadata": {},
   "outputs": [
    {
     "data": {
      "text/plain": [
       "WilcoxonResult(statistic=32.5, pvalue=0.12054443359375)"
      ]
     },
     "execution_count": 31,
     "metadata": {},
     "output_type": "execute_result"
    }
   ],
   "source": [
    "scaled_data = [\n",
    "    [18.4, 11.7], # Pracovník 1\n",
    "    [11.8, 14.0], # Pracovník 2\n",
    "    [14.8, 8.7], # Pracovník 3\n",
    "    [13.2, 12.5], # Pracovník 4\n",
    "    [16.3, 12.3], # Pracovník 5\n",
    "    [9.6, 11.9], # Pracovník 6\n",
    "    [14.5, 8.4], # Pracovník 7\n",
    "    [13.0, 10.4], # Pracovník 8\n",
    "    [11.8, 15.7], # Pracovník 9\n",
    "    [11.4, 13.6], # Pracovník 10\n",
    "    [9.2, 9.8], # Pracovník 11\n",
    "    [13.2, 11.5], # Pracovník 12\n",
    "    [12.0, 9.9], # Pracovník 13\n",
    "    [11.7, 12.9], # Pracovník 14\n",
    "    [13.1, 11.2] # Pracovník 15\n",
    "]\n",
    "\n",
    "data = pandas.DataFrame(data, columns=[\"sloupec_1\", \"sloupec_2\"])\n",
    "res = stats.wilcoxon(data[\"sloupec_1\"], data[\"sloupec_2\"])\n",
    "res"
   ]
  },
  {
   "attachments": {},
   "cell_type": "markdown",
   "metadata": {},
   "source": [
    "Pro nepárová pozorování můžeme formulovat hypotézy:\n",
    "\n",
    "* H0: Rozdělení rychlosti montáže v obou sledovaných směnách jsou stejná\n",
    "* H1: Rozdělení rychlosti montáže v obou sledovaných směnách jsou různá\n",
    "\n",
    "Pro otestování můžeme použít [Mann–Whitney test](https://docs.scipy.org/doc/scipy/reference/generated/scipy.stats.mannwhitneyu.html#scipy.stats.mannwhitneyu). Test je neparametrický, tj. nevyžaduje normální rozdělení."
   ]
  },
  {
   "cell_type": "code",
   "execution_count": 32,
   "metadata": {},
   "outputs": [
    {
     "data": {
      "text/plain": [
       "MannwhitneyuResult(statistic=99.0, pvalue=0.5889500869266057)"
      ]
     },
     "execution_count": 32,
     "metadata": {},
     "output_type": "execute_result"
    }
   ],
   "source": [
    "data = [\n",
    "    [12.2, 12.4], # První pracovník směny 1 a první pracovník směny 2\n",
    "    [11.4, 11.5], # Druhý pracovník směny 1 a druhý pracovník směny 2\n",
    "    [11.7, 11.8], \n",
    "    [12.3, 12.2], \n",
    "    [11.6, 11.7], \n",
    "    [12.1, 12.3], \n",
    "    [11.9, 11.8], \n",
    "    [12.0, 12.1], \n",
    "    [11.8, 11.7], \n",
    "    [12.4, 12.5], \n",
    "    [11.9, 12.4], \n",
    "    [12.7, 11.4], \n",
    "    [10.3, 12.7], \n",
    "    [9.11, 11.3], \n",
    "    [12.5, 12.6]\n",
    "    ]\n",
    "data = pandas.DataFrame(data, columns=[\"sloupec_1\", \"sloupec_2\"])\n",
    "res = stats.mannwhitneyu(data[\"sloupec_1\"], data[\"sloupec_2\"])\n",
    "res"
   ]
  },
  {
   "attachments": {},
   "cell_type": "markdown",
   "metadata": {},
   "source": [
    "#### Testy závislosti kategoriálních dat\n",
    "\n",
    "Kategoriální data jsou taková, která obecně není číslo, ale text (v řeči programování řetězec). Kategoriální proměnnou tedy může být oblíbený programovací jazyk, předmět na škole, nápoj, nejvyšší dosažené vzdělání, zda je člověk kuřák atd. Kategoriální proměnné můžeme porovnat mezi sebou a rozhodnout, zda je mezi nimi závislost.\n",
    "\n",
    "Hypotézy mohou být například následující:\n",
    "\n",
    "* H0: Oblíbený předmět nezávisí na pohlaví\n",
    "* H1: Oblíbený předmět závisí na pohlaví\n",
    "\n",
    "Pro test hypotézy můžeme použít [chí-kvadrát test nezávislosti](https://docs.scipy.org/doc/scipy/reference/generated/scipy.stats.chi2_contingency.html). Test je založený na použití kontingenční (pivot) tabulky."
   ]
  },
  {
   "cell_type": "code",
   "execution_count": 33,
   "metadata": {},
   "outputs": [
    {
     "data": {
      "text/plain": [
       "Chi2ContingencyResult(statistic=1.4818062200956932, pvalue=0.47668322366030635, dof=2, expected_freq=array([[9.95238095, 7.85714286, 4.19047619],\n",
       "       [9.04761905, 7.14285714, 3.80952381]]))"
      ]
     },
     "execution_count": 33,
     "metadata": {},
     "output_type": "execute_result"
    }
   ],
   "source": [
    "data = [    \n",
    "    ['female', 'coffee'],\n",
    "    ['female', 'juice'],\n",
    "    ['male', 'juice'],\n",
    "    ['female', 'tea'],\n",
    "    ['female', 'coffee'],\n",
    "    ['male', 'juice'],\n",
    "    ['female', 'coffee'],\n",
    "    ['male', 'coffee'],\n",
    "    ['male', 'tea'],\n",
    "    ['female', 'coffee'],\n",
    "    ['male', 'coffee'],\n",
    "    ['male', 'coffee'],\n",
    "    ['female', 'juice'],\n",
    "    ['female', 'tea'],\n",
    "    ['female', 'coffee'],\n",
    "    ['female', 'tea'],\n",
    "    ['female', 'juice'],\n",
    "    ['male', 'juice'],\n",
    "    ['male', 'tea'],\n",
    "    ['female', 'coffee'],\n",
    "    ['male', 'coffee'],\n",
    "    ['male', 'coffee'],\n",
    "    ['female', 'coffee'],\n",
    "    ['male', 'coffee'],\n",
    "    ['female', 'coffee'],\n",
    "    ['female', 'coffee'],\n",
    "    ['male', 'tea'],\n",
    "    ['male', 'juice'],\n",
    "    ['male', 'juice'],\n",
    "    ['female', 'coffee'],\n",
    "    ['female', 'juice'],\n",
    "    ['male', 'coffee'],\n",
    "    ['female', 'juice'],\n",
    "    ['male', 'juice'],\n",
    "    ['female', 'coffee'],\n",
    "    ['female', 'tea'],\n",
    "    ['male', 'juice'],\n",
    "    ['female', 'juice'],\n",
    "    ['female', 'tea'],\n",
    "    ['male', 'juice'],\n",
    "    ['male', 'coffee'],\n",
    "    ['male', 'juice']\n",
    "]\n",
    "data = pandas.DataFrame(data, columns=[\"sloupec_1\", \"sloupec_2\"])\n",
    "# Pro použití testu musíme vytvořit kontingenční tabulku\n",
    "data = pandas.pivot_table(data, \"sloupec_1\", \"sloupec_1\", \"sloupec_2\",aggfunc=len)\n",
    "res = stats.chi2_contingency(data)\n",
    "res"
   ]
  },
  {
   "attachments": {},
   "cell_type": "markdown",
   "metadata": {},
   "source": [
    "#### Test statistické významnosti korelace\n",
    "\n",
    "Test řeší, zda je zjištěná korelace statisticky významná. \n",
    "\n",
    "Uvažujme následující hypotézy:\n",
    "\n",
    "- H0: Cena domu a obytná plocha domu nejsou statisticky závislé\n",
    "- H1: Cena domu a obytná plocha domu jsou statisticky závislé\n",
    "\n",
    "Pokud mají data normální rozdělení, lze využít test založený na [Pearsonově korelačním koeficientu](https://docs.scipy.org/doc/scipy/reference/generated/scipy.stats.pearsonr.html#scipy.stats.pearsonr). Pokud data nemají normální rozdělení, můžeme využít test s využitím [Spearmanova koeficientu](https://docs.scipy.org/doc/scipy/reference/generated/scipy.stats.spearmanr.html#scipy.stats.spearmanr) nebo [Kendallova tau](https://docs.scipy.org/doc/scipy/reference/generated/scipy.stats.kendalltau.html#scipy.stats.kendalltau).\n",
    "\n",
    "Data použitá v ukázce jsou v souboru [house_prices.csv](house_prices.csv)."
   ]
  },
  {
   "cell_type": "code",
   "execution_count": 34,
   "metadata": {},
   "outputs": [
    {
     "data": {
      "text/plain": [
       "PearsonRResult(statistic=0.7205163006738732, pvalue=1.9398503205014947e-233)"
      ]
     },
     "execution_count": 34,
     "metadata": {},
     "output_type": "execute_result"
    }
   ],
   "source": [
    "# Pearson \n",
    "# Takto zjistíme výsledek, i když na tato konkrétní data bychom test založení na Pearsonově koeficientu používat neměli, data nemají normální rozdělení.\n",
    "\n",
    "data = pandas.read_csv(\"house_prices.csv\")\n",
    "res = stats.pearsonr(data[\"SalePrice\"], data[\"GrLivArea\"])\n",
    "res"
   ]
  },
  {
   "cell_type": "code",
   "execution_count": 35,
   "metadata": {},
   "outputs": [
    {
     "data": {
      "text/plain": [
       "SignificanceResult(statistic=0.7312378789702222, pvalue=7.801875110918258e-244)"
      ]
     },
     "execution_count": 35,
     "metadata": {},
     "output_type": "execute_result"
    }
   ],
   "source": [
    "# Spearman\n",
    "data = pandas.read_csv(\"house_prices.csv\")\n",
    "res = stats.spearmanr(data[\"SalePrice\"], data[\"GrLivArea\"])\n",
    "res"
   ]
  },
  {
   "cell_type": "code",
   "execution_count": 36,
   "metadata": {},
   "outputs": [
    {
     "data": {
      "text/plain": [
       "SignificanceResult(statistic=0.543863812013887, pvalue=1.995410251143093e-211)"
      ]
     },
     "execution_count": 36,
     "metadata": {},
     "output_type": "execute_result"
    }
   ],
   "source": [
    "# Kendall tau\n",
    "data = pandas.read_csv(\"house_prices.csv\")\n",
    "res = stats.kendalltau(data[\"SalePrice\"], data[\"GrLivArea\"])\n",
    "res"
   ]
  },
  {
   "attachments": {},
   "cell_type": "markdown",
   "metadata": {},
   "source": [
    "### Testy se třemi a více statistickými soubory\n",
    "\n",
    "#### Test na průměr\n",
    "\n",
    "Test na průměr umožňuje porovnat, zda jsou průměry hodnot různé u tří a více souborů.\n",
    "\n",
    "Pro test můžeme formulovat hypotézy:\n",
    "\n",
    "* H0: Průměrný čas montáže je stejný u pracovníků všech tří směn\n",
    "* H1: Průměrný čas montáže různý alespoň dvě směny\n",
    "\n",
    "Uvažujme, že máme ranní, odpolední a noční směnu. Test nám pouze řekne, zda je mezi směnami nějaký rozdíl, ale nevíme přesně jaký. Může tedy být například stejný průměr ranní a odpolední směny a noční se od nich liší, může být stejný průměr ranní a noční směny a odpolední se od nich liší nebo může mít každá směna průměr odlišný od ostatních.\n",
    "\n",
    "Pokud mají všechny soubory normální rozdělení a stejný roptyl, můžeme použít [ANOVA test](https://docs.scipy.org/doc/scipy/reference/generated/scipy.stats.f_oneway.html#scipy.stats.f_oneway). Pokud data nemají normální rozdělení, je možné využít neparametrický [Kruskall-Wallis test](https://docs.scipy.org/doc/scipy/reference/generated/scipy.stats.kruskal.html#scipy.stats.kruskal).\n",
    "\n",
    "### Test na rozptyl\n",
    "\n",
    "Test na variabilitu umožňují porovnat variabilitu tří a více souborů. Lze je použít i k rozhodnutí, zda je vhodné použití testu ANOVA.\n",
    "\n",
    "Pro test můžeme formulovat hypotézy:\n",
    "\n",
    "- H0: Rozptyl času montáže je stejný u pracovníků všech tří směn\n",
    "- H1: Rozptyl času montáže se liší alespoň pro dvě směny\n",
    "\n",
    "Pokud mají všechny soubory normální rozdělení, můžeme použít Levenův test. Pokud data nemají normální rozdělení, je možné použít Bartlettův test."
   ]
  },
  {
   "cell_type": "markdown",
   "metadata": {},
   "source": [
    "# Další zdroje\n",
    "\n",
    "- [One-Tailed Tests](https://www.methodspace.com/blog/one-tailed-tests)\n",
    "- [When Can I Use One-Tailed Hypothesis Tests?](https://statisticsbyjim.com/hypothesis-testing/use-one-tailed-tests/)\n"
   ]
  }
 ],
 "metadata": {
  "kernelspec": {
   "display_name": "venv",
   "language": "python",
   "name": "python3"
  },
  "language_info": {
   "codemirror_mode": {
    "name": "ipython",
    "version": 3
   },
   "file_extension": ".py",
   "mimetype": "text/x-python",
   "name": "python",
   "nbconvert_exporter": "python",
   "pygments_lexer": "ipython3",
   "version": "3.11.2"
  },
  "orig_nbformat": 4
 },
 "nbformat": 4,
 "nbformat_minor": 2
}
