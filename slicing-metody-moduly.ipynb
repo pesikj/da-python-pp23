{
 "cells": [
  {
   "attachments": {},
   "cell_type": "markdown",
   "metadata": {},
   "source": [
    "# Řešení příkladů z lekce slicing, metody, moduly\n",
    "## Slicing seznamů a řetězců\n",
    "Zadání příkladů jsou [zde](https://kodim.cz/kurzy/uvod-do-progr-2/uvod-do-programovani-2/slicing-metody-moduly/slicing).\n",
    "### Pohyby na účtu"
   ]
  },
  {
   "cell_type": "code",
   "execution_count": 9,
   "metadata": {},
   "outputs": [
    {
     "name": "stdout",
     "output_type": "stream",
     "text": [
      "-800\n",
      "[-800, 540, 721, -613, -222]\n",
      "7\n",
      "1200\n",
      "-800\n",
      "576\n"
     ]
    }
   ],
   "source": [
    "pohyby = [1200, -250, -800, 540, 721, -613, -222]\n",
    "# Vypište v pořadí třetí pohyb z uvedeného seznamu.\n",
    "print(pohyby[2])\n",
    "# Vypište všechny pohyby kromě prvních dvou.\n",
    "print(pohyby[2:])\n",
    "# Vypište kolik je všech pohybů dohromady.\n",
    "print(len(pohyby))\n",
    "# Pomocí volání vhodných funkcí vypište nejvyšší a nejnižší pohyb.\n",
    "print(max(pohyby))\n",
    "print(min(pohyby))\n",
    "# Spočítejte celkový přírůstek na účtu za dané období. Pozor, že přírůstek může vyjít i záporný.\n",
    "print(sum(pohyby))"
   ]
  },
  {
   "attachments": {},
   "cell_type": "markdown",
   "metadata": {},
   "source": [
    "### Průměr"
   ]
  },
  {
   "cell_type": "code",
   "execution_count": 10,
   "metadata": {},
   "outputs": [
    {
     "name": "stdout",
     "output_type": "stream",
     "text": [
      "3.0\n",
      "3.5\n"
     ]
    }
   ],
   "source": [
    "seznam_1 = [1, 2, 3, 4, 5]\n",
    "seznam_2 = [1, 2, 3, 4, 5, 6]\n",
    "print(sum(seznam_1)/len(seznam_1))\n",
    "print(sum(seznam_2)/len(seznam_2))"
   ]
  },
  {
   "attachments": {},
   "cell_type": "markdown",
   "metadata": {},
   "source": [
    "### Rozpětí"
   ]
  },
  {
   "cell_type": "code",
   "execution_count": 11,
   "metadata": {},
   "outputs": [
    {
     "name": "stdout",
     "output_type": "stream",
     "text": [
      "4\n"
     ]
    }
   ],
   "source": [
    "seznam_1 = [1, 2, 3, 4, 5]\n",
    "print(max(seznam_1) - min(seznam_1))"
   ]
  },
  {
   "attachments": {},
   "cell_type": "markdown",
   "metadata": {},
   "source": [
    "### Střed seznamu"
   ]
  },
  {
   "cell_type": "code",
   "execution_count": 12,
   "metadata": {},
   "outputs": [
    {
     "name": "stdout",
     "output_type": "stream",
     "text": [
      "16\n",
      "15\n",
      "16\n",
      "15\n"
     ]
    }
   ],
   "source": [
    "import math\n",
    "s = [4, 8, 15, 16, 23, 42]\n",
    "s_2 = [4, 8, 15, 16, 23]\n",
    "# Řešení pomocí celočíselného dělení\n",
    "prostredni_index = len(s) // 2\n",
    "print(s[prostredni_index])\n",
    "prostredni_index = len(s_2) // 2\n",
    "print(s_2[prostredni_index])\n",
    "\n",
    "# Řešení pomocí modulu math\n",
    "prostredni_index = math.floor(len(s) / 2)\n",
    "print(s[prostredni_index])\n",
    "prostredni_index = math.floor(len(s_2) / 2)\n",
    "print(s_2[prostredni_index])"
   ]
  },
  {
   "attachments": {},
   "cell_type": "markdown",
   "metadata": {},
   "source": [
    "### Střed seznamu podruhé"
   ]
  },
  {
   "cell_type": "code",
   "execution_count": 13,
   "metadata": {},
   "outputs": [
    {
     "name": "stdout",
     "output_type": "stream",
     "text": [
      "15\n",
      "15\n",
      "15\n",
      "15\n"
     ]
    }
   ],
   "source": [
    "import math\n",
    "s = [4, 8, 15, 16, 23, 42]\n",
    "s_2 = [4, 8, 15, 16, 23]\n",
    "# Řešení pomocí celočíselného dělení\n",
    "prostredni_index = (len(s) - 1 )// 2\n",
    "print(s[prostredni_index])\n",
    "prostredni_index = (len(s_2) - 1) // 2\n",
    "print(s_2[prostredni_index])\n",
    "\n",
    "# Řešení pomocí modulu math\n",
    "prostredni_index = math.floor((len(s) - 1)/ 2)\n",
    "print(s[prostredni_index])\n",
    "prostredni_index = math.floor((len(s_2) - 1) / 2)\n",
    "print(s_2[prostredni_index])"
   ]
  },
  {
   "attachments": {},
   "cell_type": "markdown",
   "metadata": {},
   "source": [
    "## Metody\n",
    "Zadání příkladů jsou [zde](https://kodim.cz/kurzy/uvod-do-progr-2/uvod-do-programovani-2/slicing-metody-moduly/metody).\n",
    "### Převod písmen"
   ]
  },
  {
   "cell_type": "code",
   "execution_count": 14,
   "metadata": {},
   "outputs": [
    {
     "name": "stdout",
     "output_type": "stream",
     "text": [
      "jirka\n",
      "JIRKA\n"
     ]
    }
   ],
   "source": [
    "jmeno = \"Jirka\"\n",
    "mala_pismena = jmeno.lower()\n",
    "print(mala_pismena)\n",
    "velka_pismena = mala_pismena.upper()\n",
    "print(velka_pismena)"
   ]
  },
  {
   "attachments": {},
   "cell_type": "markdown",
   "metadata": {},
   "source": [
    "### Čísla jako text"
   ]
  },
  {
   "cell_type": "code",
   "execution_count": 15,
   "metadata": {},
   "outputs": [
    {
     "name": "stdout",
     "output_type": "stream",
     "text": [
      "['12', '1', '11', '-11']\n"
     ]
    }
   ],
   "source": [
    "hodnoty = ['12', '1', '7', '-11']\n",
    "# Uložte si hodnotu na třetí pozici v seznamu do nějaké proměnné.\n",
    "vybrana_hodnota = hodnoty[2]\n",
    "# Převeďte tuto hodnotu na číslo a přičtěte k němu 4. Výsledek uložte do proměnné vysledek.\n",
    "vysledek = int(vybrana_hodnota) + 4\n",
    "# Převeďte hodnotu v proměnné vysledek zpět na řetězec a uložte ji na třetí pozici v seznamu hodnoty.\n",
    "vysledek = str(vysledek)\n",
    "hodnoty[2] = vysledek\n",
    "print(hodnoty)"
   ]
  },
  {
   "attachments": {},
   "cell_type": "markdown",
   "metadata": {},
   "source": [
    "### Čísla v textu"
   ]
  },
  {
   "cell_type": "code",
   "execution_count": 16,
   "metadata": {},
   "outputs": [
    {
     "name": "stdout",
     "output_type": "stream",
     "text": [
      "12.1 1.68 7.45 -11.26\n"
     ]
    }
   ],
   "source": [
    "hodnoty = '12.1 1.68 7.45 -11.51'\n",
    "hodnoty_seznam = hodnoty.split(\" \")\n",
    "vybrana_hodnota = hodnoty_seznam[-1]\n",
    "vysledek = float(vybrana_hodnota) + 0.25\n",
    "vysledek = str(vysledek)\n",
    "hodnoty_seznam[-1] = vysledek\n",
    "hodnoty = \" \".join(hodnoty_seznam)\n",
    "print(hodnoty)"
   ]
  },
  {
   "attachments": {},
   "cell_type": "markdown",
   "metadata": {},
   "source": [
    "### Chytřejší čísla jako text"
   ]
  },
  {
   "cell_type": "code",
   "execution_count": 17,
   "metadata": {},
   "outputs": [
    {
     "name": "stdout",
     "output_type": "stream",
     "text": [
      "['12', '1', '11', '-11']\n"
     ]
    }
   ],
   "source": [
    "hodnoty = ['12', '1', '7', '-11']\n",
    "hodnoty[2] = str(int(hodnoty[2]) + 4)\n",
    "print(hodnoty)"
   ]
  },
  {
   "attachments": {},
   "cell_type": "markdown",
   "metadata": {},
   "source": [
    "## Moduly\n",
    "### Zaokrouhlování"
   ]
  },
  {
   "cell_type": "code",
   "execution_count": 18,
   "metadata": {},
   "outputs": [
    {
     "ename": "ValueError",
     "evalue": "could not convert string to float: ''",
     "output_type": "error",
     "traceback": [
      "\u001b[1;31m---------------------------------------------------------------------------\u001b[0m",
      "\u001b[1;31mValueError\u001b[0m                                Traceback (most recent call last)",
      "Cell \u001b[1;32mIn[18], line 5\u001b[0m\n\u001b[0;32m      3\u001b[0m \u001b[39m# Tip navíc - uživatel nemusí vědět, že má použít desetinnou tečku místo čárky. My ale můžeme použít funkci replace a případnou čárku nahradit tečkou\u001b[39;00m\n\u001b[0;32m      4\u001b[0m cislo \u001b[39m=\u001b[39m cislo\u001b[39m.\u001b[39mreplace(\u001b[39m\"\u001b[39m\u001b[39m,\u001b[39m\u001b[39m\"\u001b[39m, \u001b[39m\"\u001b[39m\u001b[39m.\u001b[39m\u001b[39m\"\u001b[39m)\n\u001b[1;32m----> 5\u001b[0m cislo \u001b[39m=\u001b[39m \u001b[39mfloat\u001b[39;49m(cislo)\n\u001b[0;32m      6\u001b[0m \u001b[39mprint\u001b[39m(\u001b[39m\"\u001b[39m\u001b[39mZaokrouhlené nahoru: \u001b[39m\u001b[39m\"\u001b[39m, math\u001b[39m.\u001b[39mceil(cislo))\n\u001b[0;32m      7\u001b[0m \u001b[39mprint\u001b[39m(\u001b[39m\"\u001b[39m\u001b[39mZaokrouhlené dolů: \u001b[39m\u001b[39m\"\u001b[39m, math\u001b[39m.\u001b[39mfloor(cislo))\n",
      "\u001b[1;31mValueError\u001b[0m: could not convert string to float: ''"
     ]
    }
   ],
   "source": [
    "import math\n",
    "cislo = input(\"Zadej desetinné číslo: \")\n",
    "# Tip navíc - uživatel nemusí vědět, že má použít desetinnou tečku místo čárky. My ale můžeme použít funkci replace a případnou čárku nahradit tečkou\n",
    "cislo = cislo.replace(\",\", \".\")\n",
    "cislo = float(cislo)\n",
    "print(\"Zaokrouhlené nahoru: \", math.ceil(cislo))\n",
    "print(\"Zaokrouhlené dolů: \", math.floor(cislo))\n",
    "print(\"Zaokrouhlené standardně: \", round(cislo))"
   ]
  },
  {
   "attachments": {},
   "cell_type": "markdown",
   "metadata": {},
   "source": [
    "### Přijímačky a moduly"
   ]
  },
  {
   "cell_type": "code",
   "execution_count": null,
   "metadata": {},
   "outputs": [
    {
     "name": "stdout",
     "output_type": "stream",
     "text": [
      "1.25\n"
     ]
    }
   ],
   "source": [
    "import statistics\n",
    "vysvedceni = [\n",
    "    [\"Český jazyk\", 1],\n",
    "    [\"Anglický jazyk\", 1],\n",
    "    [\"Matematika\", 1],\n",
    "    [\"Přírodopis\", 2],\n",
    "    [\"Dějepis\", 1],\n",
    "    [\"Fyzika\", 2],\n",
    "    [\"Hudební výchova\", 4],\n",
    "    [\"Výtvarná výchova\", 2],\n",
    "    [\"Tělesná výchova\", 3],\n",
    "    [\"Chemie\", 4],\n",
    "]\n",
    "znamky = []\n",
    "for radek in vysvedceni:\n",
    "    if radek[0] in [\"Český jazyk\", \"Anglický jazyk\", \"Matematika\", \"Fyzika\"]:\n",
    "        znamky.append(radek[1])\n",
    "print(statistics.mean(znamky))"
   ]
  },
  {
   "attachments": {},
   "cell_type": "markdown",
   "metadata": {},
   "source": [
    "### Vánoční party"
   ]
  },
  {
   "cell_type": "code",
   "execution_count": null,
   "metadata": {},
   "outputs": [
    {
     "name": "stdout",
     "output_type": "stream",
     "text": [
      "curling\n"
     ]
    }
   ],
   "source": [
    "import statistics\n",
    "votes = [\n",
    "    \"curling\", \n",
    "    \"vánoční svařák na trzích\", \n",
    "    \"vánoční svařák na trzích\", \n",
    "    \"curling\", \n",
    "    \"zážitková první pomoc\",\n",
    "    \"curling\", \n",
    "    \"zážitková první pomoc\",\n",
    "    \"curling\",\n",
    "    \"zážitková první pomoc\",\n",
    "    ]\n",
    "print(statistics.mode(votes))"
   ]
  },
  {
   "attachments": {},
   "cell_type": "markdown",
   "metadata": {},
   "source": [
    "## Další příklady na procvičení\n",
    "### Průměrné teploty"
   ]
  },
  {
   "cell_type": "code",
   "execution_count": 30,
   "metadata": {},
   "outputs": [
    {
     "name": "stdout",
     "output_type": "stream",
     "text": [
      "8.2\n",
      "8.2\n",
      "2005\n",
      "2005\n",
      "[2010, 7.2]\n",
      "[2010, 7.2]\n",
      "[[2003, 8.2], [2004, 7.8], [2005, 7.7], [2006, 8.2], [2007, 9.1], [2008, 8.9], [2009, 8.4], [2010, 7.2]]\n",
      "[[2003, 2004, 2005, 2006, 2007, 2008, 2009, 2010], [8.2, 7.8, 7.7, 8.2, 9.1, 8.9, 8.4, 7.2]]\n",
      "[[2001, 7.8], [2002, 8.7]]\n",
      "[[2001, 2002], [7.8, 8.7]]\n",
      "[[2005, 7.7], [2006, 8.2], [2007, 9.1], [2008, 8.9]]\n",
      "[[2005, 2006, 2007, 2008], [7.7, 8.2, 9.1, 8.9]]\n",
      "[7.2, 7.7, 7.8, 7.8, 8.2, 8.2, 8.4, 8.7, 8.9, 9.1]\n"
     ]
    }
   ],
   "source": [
    "# vytvoření seznamu řádků\n",
    "radky = [\n",
    "    [2001, 7.8],\n",
    "    [2002, 8.7],\n",
    "    [2003, 8.2],\n",
    "    [2004, 7.8],\n",
    "    [2005, 7.7],\n",
    "    [2006, 8.2],\n",
    "    [2007, 9.1],\n",
    "    [2008, 8.9],\n",
    "    [2009, 8.4],\n",
    "    [2010, 7.2]\n",
    "]\n",
    "\n",
    "# vytvoření seznamu sloupců\n",
    "rok = [2001, 2002, 2003, 2004, 2005, 2006, 2007, 2008, 2009, 2010]\n",
    "teplota = [7.8, 8.7, 8.2, 7.8, 7.7, 8.2, 9.1, 8.9, 8.4, 7.2]\n",
    "sloupce = [rok, teplota]\n",
    "\n",
    "# Získejte teplotu na třetím řádku tabulky.\n",
    "print(radky[2][1])\n",
    "print(sloupce[1][2])\n",
    "# Získejte rok na pátém řádku tabulky.\n",
    "print(radky[4][0])\n",
    "print(sloupce[0][4])\n",
    "# Získejte poslední řádek tabulky jako seznam.\n",
    "print(radky[-1])\n",
    "print([sloupce[0][-1], sloupce[1][-1]])\n",
    "# Vytvořte tabulku bez prvních dvou řádků.\n",
    "print(radky[2:])\n",
    "print([sloupce[0][2:], sloupce[1][2:]])\n",
    "# Vytvořte tabulku pouze z prvních dvou řádků.\n",
    "print(radky[:2])\n",
    "print([sloupce[0][:2], sloupce[1][:2]])\n",
    "# Vytvořte tabulku obsahující jen řádky 5, 6, 7, 8 (myšleno při \"lidském\" číslování, tj. od 1).\n",
    "print(radky[4:8])\n",
    "print([sloupce[0][4:8], sloupce[1][4:8]])\n",
    "# Použitím proměnné sloupce vypište seznam teplot seřazený vzestupně podle velikosti. Šlo by to i pomocí proměnné radky, ale to ještě neumíme.\n",
    "print(sorted(sloupce[1]))"
   ]
  },
  {
   "attachments": {},
   "cell_type": "markdown",
   "metadata": {},
   "source": [
    "### Známky z písemek"
   ]
  },
  {
   "cell_type": "code",
   "execution_count": 3,
   "metadata": {},
   "outputs": [
    {
     "name": "stdout",
     "output_type": "stream",
     "text": [
      "[3, 4, 3, 4, 2]\n",
      "[8.0, 5.0, 7.4, 6.6]\n"
     ]
    }
   ],
   "source": [
    "body = [\n",
    "    [9, 7, 8, 5],\n",
    "    [5, 3, 6, 6],\n",
    "    [8, 4, 9, 7],\n",
    "    [8, 5, 4, 8],\n",
    "    [10, 6, 10, 7]\n",
    "]\n",
    "\n",
    "znamky = []\n",
    "for radek in body:\n",
    "    body_celkem = sum(radek)\n",
    "    if body_celkem >= 36:\n",
    "        znamka = 1\n",
    "    elif body_celkem >= 32:\n",
    "        znamka = 2\n",
    "    elif body_celkem >= 26:\n",
    "        znamka = 3\n",
    "    elif body_celkem >= 20:\n",
    "        znamka = 4\n",
    "    else:\n",
    "        znamka = 5\n",
    "    znamky.append(znamka)\n",
    "print(znamky)\n",
    "\n",
    "# Nejdříve sečtu body za jednotlivé otázky\n",
    "# Protože otázek je více, na ukládání počtu bodů využiju seznam\n",
    "# Před začátkem sčítání jsou v seznamu samé nuly (podobně si před cyklem vytváříme nějakou proměnnou s nulovou hodnotou)\n",
    "body_za_otazky = [0, 0, 0, 0]\n",
    "body_za_otazky_2 = [0, 0, 0, 0]\n",
    "for radek in body:\n",
    "    # Můžu použít \"ruční práci\", tj. jednotlivé body přičítat ručně\n",
    "    body_za_otazky[0] = body_za_otazky[0] + radek[0]\n",
    "    body_za_otazky[1] = body_za_otazky[1] + radek[1]\n",
    "    body_za_otazky[2] = body_za_otazky[2] + radek[2]\n",
    "    body_za_otazky[3] = body_za_otazky[3] + radek[3]\n",
    "\n",
    "    # Alternativně můžu použít funkce range a vnořený cyklus\n",
    "    # Funkce range mi vytvoří řadu čísel v rozmezí, které zadám jako její parametry\n",
    "    # Podobně jako u slicingu, druhý parametr je první číslo, které už v řadě není\n",
    "    # Já chci vygenerovat řadu od 0 do 3, proto použiju parametry 0 a 4\n",
    "    # Mohl bych použít i délku seznamu radek (len(radek)), program by pak fungoval, i kdybychom změnili počet otázek\n",
    "    for i in range(0, 4):\n",
    "        body_za_otazky_2[i] = body_za_otazky_2[i] + radek[i]\n",
    "prumerne_body = []\n",
    "for soucet_bodu_otazka in body_za_otazky:\n",
    "    prumerne_body.append(soucet_bodu_otazka/len(body))\n",
    "print(prumerne_body)"
   ]
  },
  {
   "attachments": {},
   "cell_type": "markdown",
   "metadata": {},
   "source": [
    "### Zasedačka"
   ]
  },
  {
   "cell_type": "code",
   "execution_count": 36,
   "metadata": {},
   "outputs": [
    {
     "name": "stdout",
     "output_type": "stream",
     "text": [
      "6\n",
      "['angličtina', 'němčina']\n",
      "{'angličtina', 'němčina'}\n"
     ]
    }
   ],
   "source": [
    "akce = [\n",
    "    \"školení - řízení firemních vozidel\",\n",
    "    \"jazykový kurz - angličtina\",\n",
    "    \"pohovor - Jan Dvořák\",\n",
    "    \"pohovor - Antonín Sova\",\n",
    "    \"jazykový kurz - němčina\",\n",
    "    \"pohovor - Iveta Hájková\",\n",
    "    \"pohovor - Ivan Brož\",\n",
    "    \"pohovor - Katarína Martináková\",\n",
    "    \"setkání se zákazníkem - Metrostav\",\n",
    "    \"jazykový kurz - angličtina\",\n",
    "    \"školení - vykazování práce\",\n",
    "    \"pohovor - Klaudie Moudrusová\",\n",
    "]\n",
    "pohovory = 0\n",
    "jazykove_kurzy = []\n",
    "jazykove_kurzu_mnozina = set()\n",
    "for polozka in akce:\n",
    "    if \"pohovor\" in polozka:\n",
    "        pohovory = pohovory + 1\n",
    "    if \"jazykový kurz\" in polozka:\n",
    "        # Verze s metodou split\n",
    "        jazyk = polozka.split(\" - \")[1]\n",
    "        # Verze s metodou replace\n",
    "        jazyk = polozka.replace(\"jazykový kurz - \", \"\")\n",
    "        # Verze se slicingem\n",
    "        jazyk = polozka[16:]\n",
    "        # Abych měl každý jazyk jen jednou, zkontroluji si, zda už není zapsán\n",
    "        if jazyk not in jazykove_kurzy:\n",
    "            jazykove_kurzy.append(jazyk)\n",
    "        # Alternativně můžeme použít množinu (set), která je obsahem další lekce\n",
    "        # Hodnoty v množině jsou vždy unikátní, tj. můžeme tam stejnou hodnotu vložit víckrát, ale bude tam jen jednou\n",
    "        jazykove_kurzu_mnozina.add(jazyk)\n",
    "print(pohovory)\n",
    "print(jazykove_kurzy)\n",
    "print(jazykove_kurzu_mnozina)"
   ]
  }
 ],
 "metadata": {
  "kernelspec": {
   "display_name": ".venv",
   "language": "python",
   "name": "python3"
  },
  "language_info": {
   "codemirror_mode": {
    "name": "ipython",
    "version": 3
   },
   "file_extension": ".py",
   "mimetype": "text/x-python",
   "name": "python",
   "nbconvert_exporter": "python",
   "pygments_lexer": "ipython3",
   "version": "3.9.13"
  },
  "orig_nbformat": 4
 },
 "nbformat": 4,
 "nbformat_minor": 2
}
