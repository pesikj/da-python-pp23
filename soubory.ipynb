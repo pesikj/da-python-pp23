{
 "cells": [
  {
   "cell_type": "markdown",
   "metadata": {},
   "source": [
    "# Řešení příkladů z lekce Soubory: čtení a zápis\n",
    "\n",
    "## Čtení ze souborů\n",
    "\n",
    "### Výplata přesněji"
   ]
  },
  {
   "cell_type": "code",
   "execution_count": 1,
   "metadata": {},
   "outputs": [
    {
     "name": "stdout",
     "output_type": "stream",
     "text": [
      "Roční výplata je 776700 Kč.\n",
      "Roční výplata je 776700 Kč.\n"
     ]
    }
   ],
   "source": [
    "lines = []\n",
    "hourly_rate = int(input(\"Zadej hodinovou sazbu: \"))\n",
    "# Postup 1 - rovnou počítám výplatu\n",
    "salary = 0\n",
    "\n",
    "with open(\"vykazy.txt\", encoding=\"utf-8\") as file:\n",
    "    for line in file:\n",
    "        # Postup 1 - rovnou počítám výplatu\n",
    "        salary = salary + hourly_rate * int(line)\n",
    "        # Postup 2 - postupně si ukládám odpracované hodiny v jednotlivých měsících do seznamu\n",
    "        lines.append(int(line))\n",
    "# Postup 1 - jen vypíšeme výsledek\n",
    "print(f\"Roční výplata je {salary} Kč.\")\n",
    "# Postup 2 - dopočítáme výplatu z hodin\n",
    "salary_2 = sum(lines) * hourly_rate\n",
    "print(f\"Roční výplata je {salary_2} Kč.\")\n"
   ]
  },
  {
   "cell_type": "markdown",
   "metadata": {},
   "source": [
    "### Počet slov"
   ]
  },
  {
   "cell_type": "code",
   "execution_count": null,
   "metadata": {},
   "outputs": [],
   "source": [
    "lines = []\n",
    "lines_count = []\n",
    "with open(\"praha.txt\", encoding=\"utf-8\") as file:\n",
    "    for line_number, line in enumerate(file):\n",
    "        line = line.split()\n",
    "        print(f\"Na řádku {line_number} je {len(line)} slov.\")\n",
    "        lines_count.append(len(line))\n",
    "print(sum(lines_count))"
   ]
  },
  {
   "cell_type": "markdown",
   "metadata": {},
   "source": [
    "### Půjčovna"
   ]
  },
  {
   "cell_type": "code",
   "execution_count": 2,
   "metadata": {},
   "outputs": [
    {
     "name": "stdout",
     "output_type": "stream",
     "text": [
      "Všechna auta najela celkem 161100.0 km.\n"
     ]
    }
   ],
   "source": [
    "lines_km = []\n",
    "\n",
    "with open(\"auta.txt\", encoding=\"utf-8\") as file:\n",
    "    for line in file:\n",
    "        line = line.split()\n",
    "        if len(line) == 2:\n",
    "            km = line[1].replace(\",\", \".\")\n",
    "            km = float(km) * 1000\n",
    "            lines_km.append(km)\n",
    "total_km = sum(lines_km)\n",
    "print(f\"Všechna auta najela celkem {total_km} km.\")"
   ]
  },
  {
   "cell_type": "markdown",
   "metadata": {},
   "source": [
    "## Zápis do souboru\n",
    "\n",
    "### Dny v měsíci"
   ]
  },
  {
   "cell_type": "code",
   "execution_count": 1,
   "metadata": {},
   "outputs": [],
   "source": [
    "pocty_dni = [31, 28, 31, 30, 31, 30, 31, 31, 30, 31, 30, 31]\n",
    "with open(\"dny_v_mesici.txt\", \"w\", encoding=\"utf-8\") as file:\n",
    "    for item in pocty_dni:\n",
    "        print(item, file=file)"
   ]
  },
  {
   "cell_type": "markdown",
   "metadata": {},
   "source": [
    "### Vytvoření souboru"
   ]
  },
  {
   "cell_type": "code",
   "execution_count": null,
   "metadata": {},
   "outputs": [],
   "source": [
    "file_name = input(\"Zadej název souboru: \")\n",
    "with open(file_name, \"w\", encoding=\"utf-8\") as file:\n",
    "    line = input(\"Zadejte text k zápisu: \")\n",
    "    print(line, file=file)"
   ]
  },
  {
   "cell_type": "markdown",
   "metadata": {},
   "source": [
    "### Rozepsaná výplata"
   ]
  },
  {
   "cell_type": "code",
   "execution_count": null,
   "metadata": {},
   "outputs": [],
   "source": [
    "lines = []\n",
    "hourly_rate = int(input(\"Zadej hodinovou sazbu: \"))\n",
    "\n",
    "with open(\"vykazy.txt\", encoding=\"utf-8\") as file:\n",
    "    for line in file:\n",
    "        salary = hourly_rate * int(line)\n",
    "        print(f\"Tento měsíc bylo vyplaceno {salary} Kč.\")\n",
    "        lines.append(salary)\n",
    "with open(\"vykazy_vystup.txt\", \"w\", encoding=\"utf-8\") as file:\n",
    "    for line in lines:\n",
    "        print(line, file=file)"
   ]
  }
 ],
 "metadata": {
  "kernelspec": {
   "display_name": "Python 3",
   "language": "python",
   "name": "python3"
  },
  "language_info": {
   "codemirror_mode": {
    "name": "ipython",
    "version": 3
   },
   "file_extension": ".py",
   "mimetype": "text/x-python",
   "name": "python",
   "nbconvert_exporter": "python",
   "pygments_lexer": "ipython3",
   "version": "3.11.2"
  },
  "orig_nbformat": 4
 },
 "nbformat": 4,
 "nbformat_minor": 2
}
