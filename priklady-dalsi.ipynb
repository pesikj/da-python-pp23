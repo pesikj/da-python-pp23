{
 "cells": [
  {
   "cell_type": "markdown",
   "metadata": {},
   "source": [
    "# Matyáš Sandorf\n",
    "\n",
    "Matyáš Sandorf, hrdina románu Julese Vernea, byl maďarský vlastenec, který připravoval povstání svého lidu. Zprávy, které si vyměňoval s dalšími spiklenci pomocí poštovních holubů, šifroval s využitím šifrovací mřížky. Ta fungovala na následujícím principu:\n",
    "\n",
    "Uvažujme, že chceme kódovat zprávu o 16 znacích. K zašifrování použijeme čtvercovou mřížku o rozměrech 4x4, která má přesně čtyři otvory (viz obrázek). Do volných otvorů zapíšeme první 4 znaky zprávy. Následně otočíme mřížku o 90 stupňů zapíšeme další 4 znaky. Postup opakujeme ještě dvakrát, čímž zapíšeme všech 16 znaků.\n",
    "\n",
    "![thumbnail_image001.png](images/thumbnail_image001.png)\n",
    "\n",
    "Zašifrovaný text je na obrázku níže, můžeme ho přepsat do řádky.\n",
    "\n",
    "Šifra tedy přehází pořadí znaků, ale samotné znaky nijak nemění.\n",
    "\n",
    "Dekódování probíhá obdobným způsobem. Vezmeme matici se zašifrovaným textem a přiložíme na něj mřížku. Pak si vypíšeme 4 písmena, která jsou vidět. Následně otočíme mřížku o 90 stupňů a přepíšeme další písmena atd.\n",
    "\n",
    "\n",
    "Váš úkol bude rozšifrovat tento text: GTYJOIROEUBDIATD\n",
    "\n",
    "Šifrovací mřížka je stejná jako na ilustračním obrázku.\n",
    "\n",
    "Zdroje:\n",
    "\n",
    "* http://scienceblogs.de/klausis-krypto-kolumne/2017/12/04/the-turning-grille-message-described-in-jules-vernes-novel-mathias-sandorf/\n",
    "* https://cs.wikipedia.org/wiki/Maty%C3%A1%C5%A1_Sandorf "
   ]
  },
  {
   "cell_type": "markdown",
   "metadata": {},
   "source": [
    "## Nápověda\n",
    "\n",
    "Můžete použít známou knihovnu numpy.\n",
    "\n",
    "```py\n",
    "import numpy as np\n",
    "```\n",
    "\n",
    "Šifrovací mřížku uložíte do proměnné pomocí příkazu\n",
    "\n",
    "```py\n",
    "coding_matrix = np.array([[1, 0, 0, 0],\n",
    "        [0, 0, 1, 0],\n",
    "        [1, 0, 0, 0],\n",
    "        [0, 1, 0, 0]])\n",
    "```\n",
    " \n",
    "Otočení mřížky provádějte pomocí příkazu\n",
    "\n",
    "```py\n",
    "coding_matrix = np.rot90(coding_matrix, -1)\n",
    "```\n",
    " \n",
    "Musí tam být ta -1, jinak se mřížka otočí obráceně.\n",
    "\n",
    "Matici, kam si postupně vložíte znaky zašifrovaného řetězce, vytvoříte takto:\n",
    "\n",
    "```py\n",
    "input_matrix = np.empty([4, 4], dtype=str)\n",
    "```\n",
    "\n",
    "A do matice zapisujete takto:\n",
    "\n",
    "```py\n",
    "input_matrix[x, y] = hodnota\n",
    "```"
   ]
  }
 ],
 "metadata": {
  "language_info": {
   "name": "python"
  },
  "orig_nbformat": 4
 },
 "nbformat": 4,
 "nbformat_minor": 2
}
